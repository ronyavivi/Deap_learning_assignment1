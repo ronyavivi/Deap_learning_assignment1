{
  "nbformat": 4,
  "nbformat_minor": 0,
  "metadata": {
    "colab": {
      "provenance": [],
      "collapsed_sections": []
    },
    "kernelspec": {
      "name": "python3",
      "display_name": "Python 3"
    },
    "language_info": {
      "name": "python"
    },
    "accelerator": "GPU",
    "gpuClass": "standard"
  },
  "cells": [
    {
      "cell_type": "markdown",
      "source": [
        "# Assignment 1\n",
        "Rony Avivi & Avigail Shahar\n",
        "\n",
        "\n",
        "\n"
      ],
      "metadata": {
        "id": "-RAbZS1d6kqY"
      }
    },
    {
      "cell_type": "code",
      "source": [
        "import pandas as pd\n",
        "import numpy as np\n",
        "import sklearn as sklearn\n",
        "import math\n",
        "import numpy as np\n",
        "import seaborn as sns\n",
        "import matplotlib.pyplot as plt"
      ],
      "metadata": {
        "id": "vEMxi1V47oL9"
      },
      "execution_count": 1,
      "outputs": []
    },
    {
      "cell_type": "code",
      "source": [
        "!git clone https://github.com/odedovadia/AdvancedMLDLCourse.git"
      ],
      "metadata": {
        "colab": {
          "base_uri": "https://localhost:8080/"
        },
        "id": "Do9iFTF2EJW1",
        "outputId": "9b177976-8420-48de-a90f-edd9cb1c6798"
      },
      "execution_count": 2,
      "outputs": [
        {
          "output_type": "stream",
          "name": "stdout",
          "text": [
            "fatal: destination path 'AdvancedMLDLCourse' already exists and is not an empty directory.\n"
          ]
        }
      ]
    },
    {
      "cell_type": "markdown",
      "source": [
        "##Data Exploration:\n",
        "Throughout this exercise we'll be using the bike sharing dataset. Our goal is to predict the number of bicycles that were rented in each day of the testing set (target variable named 'count'). \n",
        "\n",
        "According to the documentation, these are the definition of all variables:"
      ],
      "metadata": {
        "id": "kZChkOKfFYY2"
      }
    },
    {
      "cell_type": "markdown",
      "source": [
        "**date time:** time of rental.\n",
        "<br>**season:** 1:winter, 2:spring, 3:summer, 4:fall.\n",
        "<br>**holiday:** Is it a bank holiday? If so: 1, else 0.\n",
        "<br>**working day:** Is it a working day? If so: 1, else 0.\n",
        "<br>**weather:** 1-4 :\n",
        "<br>*1:* Clear, Few clouds, Partly cloudy, Partly cloudy.\n",
        "<br>*2:* Mist + Cloudy, Mist + Broken clouds, Mist + Few clouds, Mist.\n",
        "<br>*3:* Light Snow, Light Rain + Thunderstorm + Scattered clouds, Light Rain + Scattered clouds.\n",
        "<br>*4:* Heavy Rain + Ice Pallets + Thunderstorm + Mist, Snow + Fog.\n",
        "<br>**temp:** the temperature at that date.\n",
        "<br>**avg temp:** average temperature.\n",
        "<br>**humidity:** the humidity at that date.\n",
        "<br>**windspeed:** the windspeed at that date.\n",
        "<br>**pollution:** the pollution at that date.\n",
        "<br>**sunlight:** the sunlight at that date.\n",
        "<br>**traffic:** the traffic at that date.\n",
        "<br>**count:** the number of bicycles that were rented."
      ],
      "metadata": {
        "id": "nTiIyZSJFmbv"
      }
    },
    {
      "cell_type": "markdown",
      "source": [
        "### Loading the data: "
      ],
      "metadata": {
        "id": "sg-rQ_LIL7dx"
      }
    },
    {
      "cell_type": "code",
      "source": [
        "train = pd.read_csv('/content/AdvancedMLDLCourse/Assignments/Assignment I/train.csv')\n"
      ],
      "metadata": {
        "id": "c6TeiMBQIS4i"
      },
      "execution_count": 3,
      "outputs": []
    },
    {
      "cell_type": "markdown",
      "source": [
        "Examine the data:"
      ],
      "metadata": {
        "id": "3sZGIdv5UTSx"
      }
    },
    {
      "cell_type": "code",
      "source": [
        "train"
      ],
      "metadata": {
        "colab": {
          "base_uri": "https://localhost:8080/",
          "height": 424
        },
        "id": "ixBWc6C0U6RF",
        "outputId": "5195a12c-90e7-4c18-89e9-c61ee5c1c834"
      },
      "execution_count": 4,
      "outputs": [
        {
          "output_type": "execute_result",
          "data": {
            "text/plain": [
              "                 datetime  season  holiday  workingday  weather   temp  \\\n",
              "0     2011-07-11 00:00:00       3        0           1        1  28.70   \n",
              "1     2012-05-18 22:00:00       2        0           1        1  22.96   \n",
              "2     2011-04-01 23:00:00       2        0           1        1  12.30   \n",
              "3     2012-09-16 09:00:00       3        0           0        1  23.78   \n",
              "4     2011-02-01 23:00:00       1        0           1        3   8.20   \n",
              "...                   ...     ...      ...         ...      ...    ...   \n",
              "8159  2012-01-14 02:00:00       1        0           0        1   6.56   \n",
              "8160  2011-12-10 09:00:00       4        0           0        1  11.48   \n",
              "8161  2011-12-18 16:00:00       4        0           0        1  11.48   \n",
              "8162  2011-02-19 07:00:00       1        0           0        1  15.58   \n",
              "8163  2012-05-02 07:00:00       2        0           1        2  22.14   \n",
              "\n",
              "       atemp  humidity  windspeed  pollution  sunlight   traffic  count  \n",
              "0     32.575        65    12.9980   5.354100    28.701  0.000000     35  \n",
              "1     26.515        52    22.0028  85.425233    22.961  0.004489    251  \n",
              "2     15.910        61     6.0032   2.040899    12.301  0.000242     53  \n",
              "3     27.275        60     8.9981  26.682772    23.781  0.004489    296  \n",
              "4      9.850        93    12.9980   5.851754     8.201  0.000000     16  \n",
              "...      ...       ...        ...        ...       ...       ...    ...  \n",
              "8159   8.335        47    11.0014  14.953355     6.561  0.004489     38  \n",
              "8160  12.880        61    19.0012   7.977025    11.481  0.000000    149  \n",
              "8161  13.635        48    16.9979   6.916512    11.481  0.015615    234  \n",
              "8162  19.695        17    35.0008   0.095445    15.581  0.000242     22  \n",
              "8163  25.760        88    12.9980  81.965417    22.141  0.015615    358  \n",
              "\n",
              "[8164 rows x 13 columns]"
            ],
            "text/html": [
              "\n",
              "  <div id=\"df-ddfe188d-6980-4d42-a562-b18c00bbe3f6\">\n",
              "    <div class=\"colab-df-container\">\n",
              "      <div>\n",
              "<style scoped>\n",
              "    .dataframe tbody tr th:only-of-type {\n",
              "        vertical-align: middle;\n",
              "    }\n",
              "\n",
              "    .dataframe tbody tr th {\n",
              "        vertical-align: top;\n",
              "    }\n",
              "\n",
              "    .dataframe thead th {\n",
              "        text-align: right;\n",
              "    }\n",
              "</style>\n",
              "<table border=\"1\" class=\"dataframe\">\n",
              "  <thead>\n",
              "    <tr style=\"text-align: right;\">\n",
              "      <th></th>\n",
              "      <th>datetime</th>\n",
              "      <th>season</th>\n",
              "      <th>holiday</th>\n",
              "      <th>workingday</th>\n",
              "      <th>weather</th>\n",
              "      <th>temp</th>\n",
              "      <th>atemp</th>\n",
              "      <th>humidity</th>\n",
              "      <th>windspeed</th>\n",
              "      <th>pollution</th>\n",
              "      <th>sunlight</th>\n",
              "      <th>traffic</th>\n",
              "      <th>count</th>\n",
              "    </tr>\n",
              "  </thead>\n",
              "  <tbody>\n",
              "    <tr>\n",
              "      <th>0</th>\n",
              "      <td>2011-07-11 00:00:00</td>\n",
              "      <td>3</td>\n",
              "      <td>0</td>\n",
              "      <td>1</td>\n",
              "      <td>1</td>\n",
              "      <td>28.70</td>\n",
              "      <td>32.575</td>\n",
              "      <td>65</td>\n",
              "      <td>12.9980</td>\n",
              "      <td>5.354100</td>\n",
              "      <td>28.701</td>\n",
              "      <td>0.000000</td>\n",
              "      <td>35</td>\n",
              "    </tr>\n",
              "    <tr>\n",
              "      <th>1</th>\n",
              "      <td>2012-05-18 22:00:00</td>\n",
              "      <td>2</td>\n",
              "      <td>0</td>\n",
              "      <td>1</td>\n",
              "      <td>1</td>\n",
              "      <td>22.96</td>\n",
              "      <td>26.515</td>\n",
              "      <td>52</td>\n",
              "      <td>22.0028</td>\n",
              "      <td>85.425233</td>\n",
              "      <td>22.961</td>\n",
              "      <td>0.004489</td>\n",
              "      <td>251</td>\n",
              "    </tr>\n",
              "    <tr>\n",
              "      <th>2</th>\n",
              "      <td>2011-04-01 23:00:00</td>\n",
              "      <td>2</td>\n",
              "      <td>0</td>\n",
              "      <td>1</td>\n",
              "      <td>1</td>\n",
              "      <td>12.30</td>\n",
              "      <td>15.910</td>\n",
              "      <td>61</td>\n",
              "      <td>6.0032</td>\n",
              "      <td>2.040899</td>\n",
              "      <td>12.301</td>\n",
              "      <td>0.000242</td>\n",
              "      <td>53</td>\n",
              "    </tr>\n",
              "    <tr>\n",
              "      <th>3</th>\n",
              "      <td>2012-09-16 09:00:00</td>\n",
              "      <td>3</td>\n",
              "      <td>0</td>\n",
              "      <td>0</td>\n",
              "      <td>1</td>\n",
              "      <td>23.78</td>\n",
              "      <td>27.275</td>\n",
              "      <td>60</td>\n",
              "      <td>8.9981</td>\n",
              "      <td>26.682772</td>\n",
              "      <td>23.781</td>\n",
              "      <td>0.004489</td>\n",
              "      <td>296</td>\n",
              "    </tr>\n",
              "    <tr>\n",
              "      <th>4</th>\n",
              "      <td>2011-02-01 23:00:00</td>\n",
              "      <td>1</td>\n",
              "      <td>0</td>\n",
              "      <td>1</td>\n",
              "      <td>3</td>\n",
              "      <td>8.20</td>\n",
              "      <td>9.850</td>\n",
              "      <td>93</td>\n",
              "      <td>12.9980</td>\n",
              "      <td>5.851754</td>\n",
              "      <td>8.201</td>\n",
              "      <td>0.000000</td>\n",
              "      <td>16</td>\n",
              "    </tr>\n",
              "    <tr>\n",
              "      <th>...</th>\n",
              "      <td>...</td>\n",
              "      <td>...</td>\n",
              "      <td>...</td>\n",
              "      <td>...</td>\n",
              "      <td>...</td>\n",
              "      <td>...</td>\n",
              "      <td>...</td>\n",
              "      <td>...</td>\n",
              "      <td>...</td>\n",
              "      <td>...</td>\n",
              "      <td>...</td>\n",
              "      <td>...</td>\n",
              "      <td>...</td>\n",
              "    </tr>\n",
              "    <tr>\n",
              "      <th>8159</th>\n",
              "      <td>2012-01-14 02:00:00</td>\n",
              "      <td>1</td>\n",
              "      <td>0</td>\n",
              "      <td>0</td>\n",
              "      <td>1</td>\n",
              "      <td>6.56</td>\n",
              "      <td>8.335</td>\n",
              "      <td>47</td>\n",
              "      <td>11.0014</td>\n",
              "      <td>14.953355</td>\n",
              "      <td>6.561</td>\n",
              "      <td>0.004489</td>\n",
              "      <td>38</td>\n",
              "    </tr>\n",
              "    <tr>\n",
              "      <th>8160</th>\n",
              "      <td>2011-12-10 09:00:00</td>\n",
              "      <td>4</td>\n",
              "      <td>0</td>\n",
              "      <td>0</td>\n",
              "      <td>1</td>\n",
              "      <td>11.48</td>\n",
              "      <td>12.880</td>\n",
              "      <td>61</td>\n",
              "      <td>19.0012</td>\n",
              "      <td>7.977025</td>\n",
              "      <td>11.481</td>\n",
              "      <td>0.000000</td>\n",
              "      <td>149</td>\n",
              "    </tr>\n",
              "    <tr>\n",
              "      <th>8161</th>\n",
              "      <td>2011-12-18 16:00:00</td>\n",
              "      <td>4</td>\n",
              "      <td>0</td>\n",
              "      <td>0</td>\n",
              "      <td>1</td>\n",
              "      <td>11.48</td>\n",
              "      <td>13.635</td>\n",
              "      <td>48</td>\n",
              "      <td>16.9979</td>\n",
              "      <td>6.916512</td>\n",
              "      <td>11.481</td>\n",
              "      <td>0.015615</td>\n",
              "      <td>234</td>\n",
              "    </tr>\n",
              "    <tr>\n",
              "      <th>8162</th>\n",
              "      <td>2011-02-19 07:00:00</td>\n",
              "      <td>1</td>\n",
              "      <td>0</td>\n",
              "      <td>0</td>\n",
              "      <td>1</td>\n",
              "      <td>15.58</td>\n",
              "      <td>19.695</td>\n",
              "      <td>17</td>\n",
              "      <td>35.0008</td>\n",
              "      <td>0.095445</td>\n",
              "      <td>15.581</td>\n",
              "      <td>0.000242</td>\n",
              "      <td>22</td>\n",
              "    </tr>\n",
              "    <tr>\n",
              "      <th>8163</th>\n",
              "      <td>2012-05-02 07:00:00</td>\n",
              "      <td>2</td>\n",
              "      <td>0</td>\n",
              "      <td>1</td>\n",
              "      <td>2</td>\n",
              "      <td>22.14</td>\n",
              "      <td>25.760</td>\n",
              "      <td>88</td>\n",
              "      <td>12.9980</td>\n",
              "      <td>81.965417</td>\n",
              "      <td>22.141</td>\n",
              "      <td>0.015615</td>\n",
              "      <td>358</td>\n",
              "    </tr>\n",
              "  </tbody>\n",
              "</table>\n",
              "<p>8164 rows × 13 columns</p>\n",
              "</div>\n",
              "      <button class=\"colab-df-convert\" onclick=\"convertToInteractive('df-ddfe188d-6980-4d42-a562-b18c00bbe3f6')\"\n",
              "              title=\"Convert this dataframe to an interactive table.\"\n",
              "              style=\"display:none;\">\n",
              "        \n",
              "  <svg xmlns=\"http://www.w3.org/2000/svg\" height=\"24px\"viewBox=\"0 0 24 24\"\n",
              "       width=\"24px\">\n",
              "    <path d=\"M0 0h24v24H0V0z\" fill=\"none\"/>\n",
              "    <path d=\"M18.56 5.44l.94 2.06.94-2.06 2.06-.94-2.06-.94-.94-2.06-.94 2.06-2.06.94zm-11 1L8.5 8.5l.94-2.06 2.06-.94-2.06-.94L8.5 2.5l-.94 2.06-2.06.94zm10 10l.94 2.06.94-2.06 2.06-.94-2.06-.94-.94-2.06-.94 2.06-2.06.94z\"/><path d=\"M17.41 7.96l-1.37-1.37c-.4-.4-.92-.59-1.43-.59-.52 0-1.04.2-1.43.59L10.3 9.45l-7.72 7.72c-.78.78-.78 2.05 0 2.83L4 21.41c.39.39.9.59 1.41.59.51 0 1.02-.2 1.41-.59l7.78-7.78 2.81-2.81c.8-.78.8-2.07 0-2.86zM5.41 20L4 18.59l7.72-7.72 1.47 1.35L5.41 20z\"/>\n",
              "  </svg>\n",
              "      </button>\n",
              "      \n",
              "  <style>\n",
              "    .colab-df-container {\n",
              "      display:flex;\n",
              "      flex-wrap:wrap;\n",
              "      gap: 12px;\n",
              "    }\n",
              "\n",
              "    .colab-df-convert {\n",
              "      background-color: #E8F0FE;\n",
              "      border: none;\n",
              "      border-radius: 50%;\n",
              "      cursor: pointer;\n",
              "      display: none;\n",
              "      fill: #1967D2;\n",
              "      height: 32px;\n",
              "      padding: 0 0 0 0;\n",
              "      width: 32px;\n",
              "    }\n",
              "\n",
              "    .colab-df-convert:hover {\n",
              "      background-color: #E2EBFA;\n",
              "      box-shadow: 0px 1px 2px rgba(60, 64, 67, 0.3), 0px 1px 3px 1px rgba(60, 64, 67, 0.15);\n",
              "      fill: #174EA6;\n",
              "    }\n",
              "\n",
              "    [theme=dark] .colab-df-convert {\n",
              "      background-color: #3B4455;\n",
              "      fill: #D2E3FC;\n",
              "    }\n",
              "\n",
              "    [theme=dark] .colab-df-convert:hover {\n",
              "      background-color: #434B5C;\n",
              "      box-shadow: 0px 1px 3px 1px rgba(0, 0, 0, 0.15);\n",
              "      filter: drop-shadow(0px 1px 2px rgba(0, 0, 0, 0.3));\n",
              "      fill: #FFFFFF;\n",
              "    }\n",
              "  </style>\n",
              "\n",
              "      <script>\n",
              "        const buttonEl =\n",
              "          document.querySelector('#df-ddfe188d-6980-4d42-a562-b18c00bbe3f6 button.colab-df-convert');\n",
              "        buttonEl.style.display =\n",
              "          google.colab.kernel.accessAllowed ? 'block' : 'none';\n",
              "\n",
              "        async function convertToInteractive(key) {\n",
              "          const element = document.querySelector('#df-ddfe188d-6980-4d42-a562-b18c00bbe3f6');\n",
              "          const dataTable =\n",
              "            await google.colab.kernel.invokeFunction('convertToInteractive',\n",
              "                                                     [key], {});\n",
              "          if (!dataTable) return;\n",
              "\n",
              "          const docLinkHtml = 'Like what you see? Visit the ' +\n",
              "            '<a target=\"_blank\" href=https://colab.research.google.com/notebooks/data_table.ipynb>data table notebook</a>'\n",
              "            + ' to learn more about interactive tables.';\n",
              "          element.innerHTML = '';\n",
              "          dataTable['output_type'] = 'display_data';\n",
              "          await google.colab.output.renderOutput(dataTable, element);\n",
              "          const docLink = document.createElement('div');\n",
              "          docLink.innerHTML = docLinkHtml;\n",
              "          element.appendChild(docLink);\n",
              "        }\n",
              "      </script>\n",
              "    </div>\n",
              "  </div>\n",
              "  "
            ]
          },
          "metadata": {},
          "execution_count": 4
        }
      ]
    },
    {
      "cell_type": "markdown",
      "source": [
        "We can see that there are 12 variables (columns) and 8164 samples (rows) in the dataset. 'count' is our target (the number of bicycles that were rented in each date) so we'll split the dataframe to two:"
      ],
      "metadata": {
        "id": "vevLqRCyU3C8"
      }
    },
    {
      "cell_type": "code",
      "source": [
        "X = train.drop(['count'], axis=1)\n",
        "Y = train[['count']]\n",
        "X, Y"
      ],
      "metadata": {
        "colab": {
          "base_uri": "https://localhost:8080/"
        },
        "id": "HBrUz1k7VDCi",
        "outputId": "c62c1366-1a6c-4ff5-bf36-7dea6ab47cf9"
      },
      "execution_count": 5,
      "outputs": [
        {
          "output_type": "execute_result",
          "data": {
            "text/plain": [
              "(                 datetime  season  holiday  workingday  weather   temp  \\\n",
              " 0     2011-07-11 00:00:00       3        0           1        1  28.70   \n",
              " 1     2012-05-18 22:00:00       2        0           1        1  22.96   \n",
              " 2     2011-04-01 23:00:00       2        0           1        1  12.30   \n",
              " 3     2012-09-16 09:00:00       3        0           0        1  23.78   \n",
              " 4     2011-02-01 23:00:00       1        0           1        3   8.20   \n",
              " ...                   ...     ...      ...         ...      ...    ...   \n",
              " 8159  2012-01-14 02:00:00       1        0           0        1   6.56   \n",
              " 8160  2011-12-10 09:00:00       4        0           0        1  11.48   \n",
              " 8161  2011-12-18 16:00:00       4        0           0        1  11.48   \n",
              " 8162  2011-02-19 07:00:00       1        0           0        1  15.58   \n",
              " 8163  2012-05-02 07:00:00       2        0           1        2  22.14   \n",
              " \n",
              "        atemp  humidity  windspeed  pollution  sunlight   traffic  \n",
              " 0     32.575        65    12.9980   5.354100    28.701  0.000000  \n",
              " 1     26.515        52    22.0028  85.425233    22.961  0.004489  \n",
              " 2     15.910        61     6.0032   2.040899    12.301  0.000242  \n",
              " 3     27.275        60     8.9981  26.682772    23.781  0.004489  \n",
              " 4      9.850        93    12.9980   5.851754     8.201  0.000000  \n",
              " ...      ...       ...        ...        ...       ...       ...  \n",
              " 8159   8.335        47    11.0014  14.953355     6.561  0.004489  \n",
              " 8160  12.880        61    19.0012   7.977025    11.481  0.000000  \n",
              " 8161  13.635        48    16.9979   6.916512    11.481  0.015615  \n",
              " 8162  19.695        17    35.0008   0.095445    15.581  0.000242  \n",
              " 8163  25.760        88    12.9980  81.965417    22.141  0.015615  \n",
              " \n",
              " [8164 rows x 12 columns],       count\n",
              " 0        35\n",
              " 1       251\n",
              " 2        53\n",
              " 3       296\n",
              " 4        16\n",
              " ...     ...\n",
              " 8159     38\n",
              " 8160    149\n",
              " 8161    234\n",
              " 8162     22\n",
              " 8163    358\n",
              " \n",
              " [8164 rows x 1 columns])"
            ]
          },
          "metadata": {},
          "execution_count": 5
        }
      ]
    },
    {
      "cell_type": "markdown",
      "source": [
        "What we want to know about the data currently :\n",
        "- how many null values in each feature.\n",
        "- how many different values each feature gets.\n",
        "- what is the type of each feature.\n"
      ],
      "metadata": {
        "id": "j3xCaQRdKo7p"
      }
    },
    {
      "cell_type": "code",
      "source": [
        "def Describe_data (data : pd.DataFrame) : \n",
        "    columns_lst = ['Feature Name', 'Null', 'Type','Unique Values']\n",
        "    final = pd.DataFrame (columns = columns_lst)\n",
        "    for column in data.columns[:] : \n",
        "        cur_row =[column, data[column].isna().sum(), data[column].dtypes ,data[column].nunique()]\n",
        "        final.loc[final.shape[0]] = cur_row\n",
        "    return (final)\n",
        "\n",
        "Describe_data(train)"
      ],
      "metadata": {
        "colab": {
          "base_uri": "https://localhost:8080/",
          "height": 457
        },
        "id": "wApbF0OgH4zZ",
        "outputId": "4ec91035-a454-4b0d-d358-6c9267a82547"
      },
      "execution_count": 6,
      "outputs": [
        {
          "output_type": "execute_result",
          "data": {
            "text/plain": [
              "   Feature Name Null     Type Unique Values\n",
              "0      datetime    0   object          8164\n",
              "1        season    0    int64             4\n",
              "2       holiday    0    int64             2\n",
              "3    workingday    0    int64             2\n",
              "4       weather    0    int64             4\n",
              "5          temp    0  float64            49\n",
              "6         atemp    0  float64            60\n",
              "7      humidity    0    int64            87\n",
              "8     windspeed    0  float64            28\n",
              "9     pollution    0  float64          8164\n",
              "10     sunlight    0  float64            49\n",
              "11      traffic    0  float64             4\n",
              "12        count    0    int64           789"
            ],
            "text/html": [
              "\n",
              "  <div id=\"df-8eb87e1a-47e9-4090-886e-ff126a24b984\">\n",
              "    <div class=\"colab-df-container\">\n",
              "      <div>\n",
              "<style scoped>\n",
              "    .dataframe tbody tr th:only-of-type {\n",
              "        vertical-align: middle;\n",
              "    }\n",
              "\n",
              "    .dataframe tbody tr th {\n",
              "        vertical-align: top;\n",
              "    }\n",
              "\n",
              "    .dataframe thead th {\n",
              "        text-align: right;\n",
              "    }\n",
              "</style>\n",
              "<table border=\"1\" class=\"dataframe\">\n",
              "  <thead>\n",
              "    <tr style=\"text-align: right;\">\n",
              "      <th></th>\n",
              "      <th>Feature Name</th>\n",
              "      <th>Null</th>\n",
              "      <th>Type</th>\n",
              "      <th>Unique Values</th>\n",
              "    </tr>\n",
              "  </thead>\n",
              "  <tbody>\n",
              "    <tr>\n",
              "      <th>0</th>\n",
              "      <td>datetime</td>\n",
              "      <td>0</td>\n",
              "      <td>object</td>\n",
              "      <td>8164</td>\n",
              "    </tr>\n",
              "    <tr>\n",
              "      <th>1</th>\n",
              "      <td>season</td>\n",
              "      <td>0</td>\n",
              "      <td>int64</td>\n",
              "      <td>4</td>\n",
              "    </tr>\n",
              "    <tr>\n",
              "      <th>2</th>\n",
              "      <td>holiday</td>\n",
              "      <td>0</td>\n",
              "      <td>int64</td>\n",
              "      <td>2</td>\n",
              "    </tr>\n",
              "    <tr>\n",
              "      <th>3</th>\n",
              "      <td>workingday</td>\n",
              "      <td>0</td>\n",
              "      <td>int64</td>\n",
              "      <td>2</td>\n",
              "    </tr>\n",
              "    <tr>\n",
              "      <th>4</th>\n",
              "      <td>weather</td>\n",
              "      <td>0</td>\n",
              "      <td>int64</td>\n",
              "      <td>4</td>\n",
              "    </tr>\n",
              "    <tr>\n",
              "      <th>5</th>\n",
              "      <td>temp</td>\n",
              "      <td>0</td>\n",
              "      <td>float64</td>\n",
              "      <td>49</td>\n",
              "    </tr>\n",
              "    <tr>\n",
              "      <th>6</th>\n",
              "      <td>atemp</td>\n",
              "      <td>0</td>\n",
              "      <td>float64</td>\n",
              "      <td>60</td>\n",
              "    </tr>\n",
              "    <tr>\n",
              "      <th>7</th>\n",
              "      <td>humidity</td>\n",
              "      <td>0</td>\n",
              "      <td>int64</td>\n",
              "      <td>87</td>\n",
              "    </tr>\n",
              "    <tr>\n",
              "      <th>8</th>\n",
              "      <td>windspeed</td>\n",
              "      <td>0</td>\n",
              "      <td>float64</td>\n",
              "      <td>28</td>\n",
              "    </tr>\n",
              "    <tr>\n",
              "      <th>9</th>\n",
              "      <td>pollution</td>\n",
              "      <td>0</td>\n",
              "      <td>float64</td>\n",
              "      <td>8164</td>\n",
              "    </tr>\n",
              "    <tr>\n",
              "      <th>10</th>\n",
              "      <td>sunlight</td>\n",
              "      <td>0</td>\n",
              "      <td>float64</td>\n",
              "      <td>49</td>\n",
              "    </tr>\n",
              "    <tr>\n",
              "      <th>11</th>\n",
              "      <td>traffic</td>\n",
              "      <td>0</td>\n",
              "      <td>float64</td>\n",
              "      <td>4</td>\n",
              "    </tr>\n",
              "    <tr>\n",
              "      <th>12</th>\n",
              "      <td>count</td>\n",
              "      <td>0</td>\n",
              "      <td>int64</td>\n",
              "      <td>789</td>\n",
              "    </tr>\n",
              "  </tbody>\n",
              "</table>\n",
              "</div>\n",
              "      <button class=\"colab-df-convert\" onclick=\"convertToInteractive('df-8eb87e1a-47e9-4090-886e-ff126a24b984')\"\n",
              "              title=\"Convert this dataframe to an interactive table.\"\n",
              "              style=\"display:none;\">\n",
              "        \n",
              "  <svg xmlns=\"http://www.w3.org/2000/svg\" height=\"24px\"viewBox=\"0 0 24 24\"\n",
              "       width=\"24px\">\n",
              "    <path d=\"M0 0h24v24H0V0z\" fill=\"none\"/>\n",
              "    <path d=\"M18.56 5.44l.94 2.06.94-2.06 2.06-.94-2.06-.94-.94-2.06-.94 2.06-2.06.94zm-11 1L8.5 8.5l.94-2.06 2.06-.94-2.06-.94L8.5 2.5l-.94 2.06-2.06.94zm10 10l.94 2.06.94-2.06 2.06-.94-2.06-.94-.94-2.06-.94 2.06-2.06.94z\"/><path d=\"M17.41 7.96l-1.37-1.37c-.4-.4-.92-.59-1.43-.59-.52 0-1.04.2-1.43.59L10.3 9.45l-7.72 7.72c-.78.78-.78 2.05 0 2.83L4 21.41c.39.39.9.59 1.41.59.51 0 1.02-.2 1.41-.59l7.78-7.78 2.81-2.81c.8-.78.8-2.07 0-2.86zM5.41 20L4 18.59l7.72-7.72 1.47 1.35L5.41 20z\"/>\n",
              "  </svg>\n",
              "      </button>\n",
              "      \n",
              "  <style>\n",
              "    .colab-df-container {\n",
              "      display:flex;\n",
              "      flex-wrap:wrap;\n",
              "      gap: 12px;\n",
              "    }\n",
              "\n",
              "    .colab-df-convert {\n",
              "      background-color: #E8F0FE;\n",
              "      border: none;\n",
              "      border-radius: 50%;\n",
              "      cursor: pointer;\n",
              "      display: none;\n",
              "      fill: #1967D2;\n",
              "      height: 32px;\n",
              "      padding: 0 0 0 0;\n",
              "      width: 32px;\n",
              "    }\n",
              "\n",
              "    .colab-df-convert:hover {\n",
              "      background-color: #E2EBFA;\n",
              "      box-shadow: 0px 1px 2px rgba(60, 64, 67, 0.3), 0px 1px 3px 1px rgba(60, 64, 67, 0.15);\n",
              "      fill: #174EA6;\n",
              "    }\n",
              "\n",
              "    [theme=dark] .colab-df-convert {\n",
              "      background-color: #3B4455;\n",
              "      fill: #D2E3FC;\n",
              "    }\n",
              "\n",
              "    [theme=dark] .colab-df-convert:hover {\n",
              "      background-color: #434B5C;\n",
              "      box-shadow: 0px 1px 3px 1px rgba(0, 0, 0, 0.15);\n",
              "      filter: drop-shadow(0px 1px 2px rgba(0, 0, 0, 0.3));\n",
              "      fill: #FFFFFF;\n",
              "    }\n",
              "  </style>\n",
              "\n",
              "      <script>\n",
              "        const buttonEl =\n",
              "          document.querySelector('#df-8eb87e1a-47e9-4090-886e-ff126a24b984 button.colab-df-convert');\n",
              "        buttonEl.style.display =\n",
              "          google.colab.kernel.accessAllowed ? 'block' : 'none';\n",
              "\n",
              "        async function convertToInteractive(key) {\n",
              "          const element = document.querySelector('#df-8eb87e1a-47e9-4090-886e-ff126a24b984');\n",
              "          const dataTable =\n",
              "            await google.colab.kernel.invokeFunction('convertToInteractive',\n",
              "                                                     [key], {});\n",
              "          if (!dataTable) return;\n",
              "\n",
              "          const docLinkHtml = 'Like what you see? Visit the ' +\n",
              "            '<a target=\"_blank\" href=https://colab.research.google.com/notebooks/data_table.ipynb>data table notebook</a>'\n",
              "            + ' to learn more about interactive tables.';\n",
              "          element.innerHTML = '';\n",
              "          dataTable['output_type'] = 'display_data';\n",
              "          await google.colab.output.renderOutput(dataTable, element);\n",
              "          const docLink = document.createElement('div');\n",
              "          docLink.innerHTML = docLinkHtml;\n",
              "          element.appendChild(docLink);\n",
              "        }\n",
              "      </script>\n",
              "    </div>\n",
              "  </div>\n",
              "  "
            ]
          },
          "metadata": {},
          "execution_count": 6
        }
      ]
    },
    {
      "cell_type": "markdown",
      "source": [
        "We are happy to see that the data does'nt contain any null values.\n",
        "Also, almost all variables are numeric, either float or int. In some colums the numbers indicate for categorial / binaric features.\n",
        "<br> The 'datetime' column is 'object', which means pandas currently views these values as strings. We will convert the 'datetime' column to 'datetime' type so we can analyze and engineer it properly and conveniently. "
      ],
      "metadata": {
        "id": "9c8peNnQSFai"
      }
    },
    {
      "cell_type": "code",
      "source": [
        "import datetime\n",
        "X['datetime'] = pd.to_datetime(X['datetime'])"
      ],
      "metadata": {
        "id": "r4UhPQiMZJ9I"
      },
      "execution_count": 7,
      "outputs": []
    },
    {
      "cell_type": "code",
      "source": [
        "X.info()"
      ],
      "metadata": {
        "colab": {
          "base_uri": "https://localhost:8080/"
        },
        "id": "iat0bEz0S4es",
        "outputId": "34c779cf-c54a-4a0e-dfe6-1928044f2599"
      },
      "execution_count": 8,
      "outputs": [
        {
          "output_type": "stream",
          "name": "stdout",
          "text": [
            "<class 'pandas.core.frame.DataFrame'>\n",
            "RangeIndex: 8164 entries, 0 to 8163\n",
            "Data columns (total 12 columns):\n",
            " #   Column      Non-Null Count  Dtype         \n",
            "---  ------      --------------  -----         \n",
            " 0   datetime    8164 non-null   datetime64[ns]\n",
            " 1   season      8164 non-null   int64         \n",
            " 2   holiday     8164 non-null   int64         \n",
            " 3   workingday  8164 non-null   int64         \n",
            " 4   weather     8164 non-null   int64         \n",
            " 5   temp        8164 non-null   float64       \n",
            " 6   atemp       8164 non-null   float64       \n",
            " 7   humidity    8164 non-null   int64         \n",
            " 8   windspeed   8164 non-null   float64       \n",
            " 9   pollution   8164 non-null   float64       \n",
            " 10  sunlight    8164 non-null   float64       \n",
            " 11  traffic     8164 non-null   float64       \n",
            "dtypes: datetime64[ns](1), float64(6), int64(5)\n",
            "memory usage: 765.5 KB\n"
          ]
        }
      ]
    },
    {
      "cell_type": "markdown",
      "source": [
        "Let's look at some statistical attributes of the data:"
      ],
      "metadata": {
        "id": "X5JO85pcNzNF"
      }
    },
    {
      "cell_type": "code",
      "source": [
        "train.describe()"
      ],
      "metadata": {
        "colab": {
          "base_uri": "https://localhost:8080/",
          "height": 364
        },
        "id": "sfr4icrGN1tK",
        "outputId": "c20e15ae-ca97-4dae-bb3c-2a37514902de"
      },
      "execution_count": 9,
      "outputs": [
        {
          "output_type": "execute_result",
          "data": {
            "text/plain": [
              "            season      holiday   workingday      weather         temp  \\\n",
              "count  8164.000000  8164.000000  8164.000000  8164.000000  8164.000000   \n",
              "mean      2.510289     0.029397     0.683244     1.415483    20.244980   \n",
              "std       1.117178     0.168928     0.465240     0.631242     7.796018   \n",
              "min       1.000000     0.000000     0.000000     1.000000     0.820000   \n",
              "25%       2.000000     0.000000     0.000000     1.000000    13.940000   \n",
              "50%       3.000000     0.000000     1.000000     1.000000    20.500000   \n",
              "75%       4.000000     0.000000     1.000000     2.000000    26.240000   \n",
              "max       4.000000     1.000000     1.000000     4.000000    41.000000   \n",
              "\n",
              "             atemp     humidity    windspeed    pollution     sunlight  \\\n",
              "count  8164.000000  8164.000000  8164.000000  8164.000000  8164.000000   \n",
              "mean     23.670160    61.835130    12.791334    47.152120    20.245980   \n",
              "std       8.468725    19.255791     8.213914    72.882602     7.796018   \n",
              "min       0.760000     0.000000     0.000000     0.000304     0.821000   \n",
              "25%      16.665000    47.000000     7.001500     3.693188    13.941000   \n",
              "50%      24.240000    62.000000    12.998000    17.684113    20.501000   \n",
              "75%      31.060000    77.000000    16.997900    59.257746    26.241000   \n",
              "max      45.455000   100.000000    56.996900   754.304876    41.001000   \n",
              "\n",
              "           traffic        count  \n",
              "count  8164.000000  8164.000000  \n",
              "mean      0.004986   191.339784  \n",
              "std       0.006319   181.143178  \n",
              "min       0.000000     1.000000  \n",
              "25%       0.000000    41.000000  \n",
              "50%       0.000242   145.000000  \n",
              "75%       0.004489   285.000000  \n",
              "max       0.015615   970.000000  "
            ],
            "text/html": [
              "\n",
              "  <div id=\"df-345a08da-7407-47ed-9487-f557259db15b\">\n",
              "    <div class=\"colab-df-container\">\n",
              "      <div>\n",
              "<style scoped>\n",
              "    .dataframe tbody tr th:only-of-type {\n",
              "        vertical-align: middle;\n",
              "    }\n",
              "\n",
              "    .dataframe tbody tr th {\n",
              "        vertical-align: top;\n",
              "    }\n",
              "\n",
              "    .dataframe thead th {\n",
              "        text-align: right;\n",
              "    }\n",
              "</style>\n",
              "<table border=\"1\" class=\"dataframe\">\n",
              "  <thead>\n",
              "    <tr style=\"text-align: right;\">\n",
              "      <th></th>\n",
              "      <th>season</th>\n",
              "      <th>holiday</th>\n",
              "      <th>workingday</th>\n",
              "      <th>weather</th>\n",
              "      <th>temp</th>\n",
              "      <th>atemp</th>\n",
              "      <th>humidity</th>\n",
              "      <th>windspeed</th>\n",
              "      <th>pollution</th>\n",
              "      <th>sunlight</th>\n",
              "      <th>traffic</th>\n",
              "      <th>count</th>\n",
              "    </tr>\n",
              "  </thead>\n",
              "  <tbody>\n",
              "    <tr>\n",
              "      <th>count</th>\n",
              "      <td>8164.000000</td>\n",
              "      <td>8164.000000</td>\n",
              "      <td>8164.000000</td>\n",
              "      <td>8164.000000</td>\n",
              "      <td>8164.000000</td>\n",
              "      <td>8164.000000</td>\n",
              "      <td>8164.000000</td>\n",
              "      <td>8164.000000</td>\n",
              "      <td>8164.000000</td>\n",
              "      <td>8164.000000</td>\n",
              "      <td>8164.000000</td>\n",
              "      <td>8164.000000</td>\n",
              "    </tr>\n",
              "    <tr>\n",
              "      <th>mean</th>\n",
              "      <td>2.510289</td>\n",
              "      <td>0.029397</td>\n",
              "      <td>0.683244</td>\n",
              "      <td>1.415483</td>\n",
              "      <td>20.244980</td>\n",
              "      <td>23.670160</td>\n",
              "      <td>61.835130</td>\n",
              "      <td>12.791334</td>\n",
              "      <td>47.152120</td>\n",
              "      <td>20.245980</td>\n",
              "      <td>0.004986</td>\n",
              "      <td>191.339784</td>\n",
              "    </tr>\n",
              "    <tr>\n",
              "      <th>std</th>\n",
              "      <td>1.117178</td>\n",
              "      <td>0.168928</td>\n",
              "      <td>0.465240</td>\n",
              "      <td>0.631242</td>\n",
              "      <td>7.796018</td>\n",
              "      <td>8.468725</td>\n",
              "      <td>19.255791</td>\n",
              "      <td>8.213914</td>\n",
              "      <td>72.882602</td>\n",
              "      <td>7.796018</td>\n",
              "      <td>0.006319</td>\n",
              "      <td>181.143178</td>\n",
              "    </tr>\n",
              "    <tr>\n",
              "      <th>min</th>\n",
              "      <td>1.000000</td>\n",
              "      <td>0.000000</td>\n",
              "      <td>0.000000</td>\n",
              "      <td>1.000000</td>\n",
              "      <td>0.820000</td>\n",
              "      <td>0.760000</td>\n",
              "      <td>0.000000</td>\n",
              "      <td>0.000000</td>\n",
              "      <td>0.000304</td>\n",
              "      <td>0.821000</td>\n",
              "      <td>0.000000</td>\n",
              "      <td>1.000000</td>\n",
              "    </tr>\n",
              "    <tr>\n",
              "      <th>25%</th>\n",
              "      <td>2.000000</td>\n",
              "      <td>0.000000</td>\n",
              "      <td>0.000000</td>\n",
              "      <td>1.000000</td>\n",
              "      <td>13.940000</td>\n",
              "      <td>16.665000</td>\n",
              "      <td>47.000000</td>\n",
              "      <td>7.001500</td>\n",
              "      <td>3.693188</td>\n",
              "      <td>13.941000</td>\n",
              "      <td>0.000000</td>\n",
              "      <td>41.000000</td>\n",
              "    </tr>\n",
              "    <tr>\n",
              "      <th>50%</th>\n",
              "      <td>3.000000</td>\n",
              "      <td>0.000000</td>\n",
              "      <td>1.000000</td>\n",
              "      <td>1.000000</td>\n",
              "      <td>20.500000</td>\n",
              "      <td>24.240000</td>\n",
              "      <td>62.000000</td>\n",
              "      <td>12.998000</td>\n",
              "      <td>17.684113</td>\n",
              "      <td>20.501000</td>\n",
              "      <td>0.000242</td>\n",
              "      <td>145.000000</td>\n",
              "    </tr>\n",
              "    <tr>\n",
              "      <th>75%</th>\n",
              "      <td>4.000000</td>\n",
              "      <td>0.000000</td>\n",
              "      <td>1.000000</td>\n",
              "      <td>2.000000</td>\n",
              "      <td>26.240000</td>\n",
              "      <td>31.060000</td>\n",
              "      <td>77.000000</td>\n",
              "      <td>16.997900</td>\n",
              "      <td>59.257746</td>\n",
              "      <td>26.241000</td>\n",
              "      <td>0.004489</td>\n",
              "      <td>285.000000</td>\n",
              "    </tr>\n",
              "    <tr>\n",
              "      <th>max</th>\n",
              "      <td>4.000000</td>\n",
              "      <td>1.000000</td>\n",
              "      <td>1.000000</td>\n",
              "      <td>4.000000</td>\n",
              "      <td>41.000000</td>\n",
              "      <td>45.455000</td>\n",
              "      <td>100.000000</td>\n",
              "      <td>56.996900</td>\n",
              "      <td>754.304876</td>\n",
              "      <td>41.001000</td>\n",
              "      <td>0.015615</td>\n",
              "      <td>970.000000</td>\n",
              "    </tr>\n",
              "  </tbody>\n",
              "</table>\n",
              "</div>\n",
              "      <button class=\"colab-df-convert\" onclick=\"convertToInteractive('df-345a08da-7407-47ed-9487-f557259db15b')\"\n",
              "              title=\"Convert this dataframe to an interactive table.\"\n",
              "              style=\"display:none;\">\n",
              "        \n",
              "  <svg xmlns=\"http://www.w3.org/2000/svg\" height=\"24px\"viewBox=\"0 0 24 24\"\n",
              "       width=\"24px\">\n",
              "    <path d=\"M0 0h24v24H0V0z\" fill=\"none\"/>\n",
              "    <path d=\"M18.56 5.44l.94 2.06.94-2.06 2.06-.94-2.06-.94-.94-2.06-.94 2.06-2.06.94zm-11 1L8.5 8.5l.94-2.06 2.06-.94-2.06-.94L8.5 2.5l-.94 2.06-2.06.94zm10 10l.94 2.06.94-2.06 2.06-.94-2.06-.94-.94-2.06-.94 2.06-2.06.94z\"/><path d=\"M17.41 7.96l-1.37-1.37c-.4-.4-.92-.59-1.43-.59-.52 0-1.04.2-1.43.59L10.3 9.45l-7.72 7.72c-.78.78-.78 2.05 0 2.83L4 21.41c.39.39.9.59 1.41.59.51 0 1.02-.2 1.41-.59l7.78-7.78 2.81-2.81c.8-.78.8-2.07 0-2.86zM5.41 20L4 18.59l7.72-7.72 1.47 1.35L5.41 20z\"/>\n",
              "  </svg>\n",
              "      </button>\n",
              "      \n",
              "  <style>\n",
              "    .colab-df-container {\n",
              "      display:flex;\n",
              "      flex-wrap:wrap;\n",
              "      gap: 12px;\n",
              "    }\n",
              "\n",
              "    .colab-df-convert {\n",
              "      background-color: #E8F0FE;\n",
              "      border: none;\n",
              "      border-radius: 50%;\n",
              "      cursor: pointer;\n",
              "      display: none;\n",
              "      fill: #1967D2;\n",
              "      height: 32px;\n",
              "      padding: 0 0 0 0;\n",
              "      width: 32px;\n",
              "    }\n",
              "\n",
              "    .colab-df-convert:hover {\n",
              "      background-color: #E2EBFA;\n",
              "      box-shadow: 0px 1px 2px rgba(60, 64, 67, 0.3), 0px 1px 3px 1px rgba(60, 64, 67, 0.15);\n",
              "      fill: #174EA6;\n",
              "    }\n",
              "\n",
              "    [theme=dark] .colab-df-convert {\n",
              "      background-color: #3B4455;\n",
              "      fill: #D2E3FC;\n",
              "    }\n",
              "\n",
              "    [theme=dark] .colab-df-convert:hover {\n",
              "      background-color: #434B5C;\n",
              "      box-shadow: 0px 1px 3px 1px rgba(0, 0, 0, 0.15);\n",
              "      filter: drop-shadow(0px 1px 2px rgba(0, 0, 0, 0.3));\n",
              "      fill: #FFFFFF;\n",
              "    }\n",
              "  </style>\n",
              "\n",
              "      <script>\n",
              "        const buttonEl =\n",
              "          document.querySelector('#df-345a08da-7407-47ed-9487-f557259db15b button.colab-df-convert');\n",
              "        buttonEl.style.display =\n",
              "          google.colab.kernel.accessAllowed ? 'block' : 'none';\n",
              "\n",
              "        async function convertToInteractive(key) {\n",
              "          const element = document.querySelector('#df-345a08da-7407-47ed-9487-f557259db15b');\n",
              "          const dataTable =\n",
              "            await google.colab.kernel.invokeFunction('convertToInteractive',\n",
              "                                                     [key], {});\n",
              "          if (!dataTable) return;\n",
              "\n",
              "          const docLinkHtml = 'Like what you see? Visit the ' +\n",
              "            '<a target=\"_blank\" href=https://colab.research.google.com/notebooks/data_table.ipynb>data table notebook</a>'\n",
              "            + ' to learn more about interactive tables.';\n",
              "          element.innerHTML = '';\n",
              "          dataTable['output_type'] = 'display_data';\n",
              "          await google.colab.output.renderOutput(dataTable, element);\n",
              "          const docLink = document.createElement('div');\n",
              "          docLink.innerHTML = docLinkHtml;\n",
              "          element.appendChild(docLink);\n",
              "        }\n",
              "      </script>\n",
              "    </div>\n",
              "  </div>\n",
              "  "
            ]
          },
          "metadata": {},
          "execution_count": 9
        }
      ]
    },
    {
      "cell_type": "markdown",
      "source": [
        "We can see the some of the features values are in different scales, so we might want to normalize them later."
      ],
      "metadata": {
        "id": "L2YzlutJj3Ao"
      }
    },
    {
      "cell_type": "markdown",
      "source": [
        "Let's look at the Pearson correlation between the features:"
      ],
      "metadata": {
        "id": "VQpkGoOBO95M"
      }
    },
    {
      "cell_type": "code",
      "source": [
        "correlations = train.corr()"
      ],
      "metadata": {
        "id": "C9tMvIAoPFkP"
      },
      "execution_count": 10,
      "outputs": []
    },
    {
      "cell_type": "markdown",
      "source": [
        "Let's plot the correlation matrix using matplotlib and seaborn:"
      ],
      "metadata": {
        "id": "hagZsUpMPR9p"
      }
    },
    {
      "cell_type": "code",
      "source": [
        "mask = np.zeros_like(correlations, dtype=bool)\n",
        "mask[np.triu_indices_from(mask, k=1)] = True\n",
        "\n",
        "fig, ax = plt.subplots(figsize=(15, 15))\n",
        "plt.title('Pearson Correlation Heatmap', fontsize=23)\n",
        "\n",
        "sns.heatmap(correlations, linewidths=0.25, vmax=1.0, square=True, cmap=sns.cubehelix_palette(as_cmap=True),\n",
        "            linecolor='w', annot=True, mask=mask)"
      ],
      "metadata": {
        "colab": {
          "base_uri": "https://localhost:8080/",
          "height": 867
        },
        "id": "lfQLuiVCPTas",
        "outputId": "2cdd6cb3-2483-43a6-9edb-30fe62a7f501"
      },
      "execution_count": 11,
      "outputs": [
        {
          "output_type": "execute_result",
          "data": {
            "text/plain": [
              "<matplotlib.axes._subplots.AxesSubplot at 0x7fafc6ded950>"
            ]
          },
          "metadata": {},
          "execution_count": 11
        },
        {
          "output_type": "display_data",
          "data": {
            "text/plain": [
              "<Figure size 1080x1080 with 2 Axes>"
            ],
            "image/png": "[encoded data removed]"
          },
          "metadata": {
            "needs_background": "light"
          }
        }
      ]
    },
    {
      "cell_type": "markdown",
      "source": [
        "## Conclusions ⛅ \n",
        "- There is a very large correlation between the 3 parameters : sunlight, temp & atemp.\n",
        "- We might exclude one or 2 of those parameters in the future because they all gives us almost the same information, what indicates we don't get any extra info from keeping all of them."
      ],
      "metadata": {
        "id": "dfSv0-YIQwre"
      }
    },
    {
      "cell_type": "markdown",
      "source": [
        "Let's plot the correlation between the highly correlated features:\n",
        "<br>\"temp\" & \"atemp\",\n",
        "<br>\"sunlight\" & \"temp\",\n",
        "<br>\"sunlight & \"atemp\".\n"
      ],
      "metadata": {
        "id": "sU8TJ80sk81l"
      }
    },
    {
      "cell_type": "code",
      "source": [
        "# plotting the high correlated features corralation\n",
        "\n",
        "sns.scatterplot(x=\"temp\", y=\"atemp\", data=X);\n",
        "plt.show()\n",
        "sns.scatterplot(x=\"sunlight\", y=\"temp\", data=X);\n",
        "plt.show()\n",
        "sns.scatterplot(x=\"sunlight\", y=\"atemp\", data=X);\n",
        "plt.show()"
      ],
      "metadata": {
        "colab": {
          "base_uri": "https://localhost:8080/",
          "height": 803
        },
        "id": "FR9jHtlIk6bX",
        "outputId": "9aba74be-7b9c-44d0-b451-189b6a447bc5"
      },
      "execution_count": 12,
      "outputs": [
        {
          "output_type": "display_data",
          "data": {
            "text/plain": [
              "<Figure size 432x288 with 1 Axes>"
            ],
            "image/png": "[encoded data removed]"
          },
          "metadata": {
            "needs_background": "light"
          }
        },
        {
          "output_type": "display_data",
          "data": {
            "text/plain": [
              "<Figure size 432x288 with 1 Axes>"
            ],
            "image/png": "[encoded data removed]"
          },
          "metadata": {
            "needs_background": "light"
          }
        },
        {
          "output_type": "display_data",
          "data": {
            "text/plain": [
              "<Figure size 432x288 with 1 Axes>"
            ],
            "image/png": "[encoded data removed]"
          },
          "metadata": {
            "needs_background": "light"
          }
        }
      ]
    },
    {
      "cell_type": "markdown",
      "source": [
        "Let's visualize some numeric data:"
      ],
      "metadata": {
        "id": "FRiq0tIEwHUj"
      }
    },
    {
      "cell_type": "code",
      "source": [
        "numeric_features= ['temp', 'atemp', 'humidity', 'windspeed', 'pollution', 'sunlight']\n",
        "train[numeric_features].hist(bins =20, figsize = (15,10))\n",
        "plt.show()\n"
      ],
      "metadata": {
        "colab": {
          "base_uri": "https://localhost:8080/",
          "height": 607
        },
        "id": "H6u07a-BwMI4",
        "outputId": "356c3bca-d7e7-48c9-90b9-c6146c2756ab"
      },
      "execution_count": 13,
      "outputs": [
        {
          "output_type": "display_data",
          "data": {
            "text/plain": [
              "<Figure size 1080x720 with 6 Axes>"
            ],
            "image/png": "[encoded data removed]"
          },
          "metadata": {
            "needs_background": "light"
          }
        }
      ]
    },
    {
      "cell_type": "markdown",
      "source": [
        "From the histograms we can see the way different features are distributed (for further conclusions). <br>We noticed that 'pollution' and 'windspeed'  distributions are very skewed.\n"
      ],
      "metadata": {
        "id": "0EZAc6RTUOkH"
      }
    },
    {
      "cell_type": "markdown",
      "source": [
        "Let's visualize some categorical data:"
      ],
      "metadata": {
        "id": "WMaVxDGTcHnm"
      }
    },
    {
      "cell_type": "code",
      "source": [
        "def piechart_features(data ,features):    \n",
        "    for f in features :\n",
        "        cur = data[f]\n",
        "        values = list(cur.value_counts()) \n",
        "        mylabels = list(cur.unique())\n",
        "        plt.pie(values, labels = mylabels, shadow = True, startangle=45,radius = 1.5)\n",
        "        plt.title(f)\n",
        "        plt.show()\n",
        "\n",
        "\n",
        "\n",
        "\n",
        "cat_cols = ['holiday','season','workingday','traffic','weather']\n",
        "piechart_features(train,cat_cols)"
      ],
      "metadata": {
        "colab": {
          "base_uri": "https://localhost:8080/",
          "height": 1000
        },
        "id": "It7FNSc9cvTp",
        "outputId": "1dd58f56-7776-4be6-c7a2-76ded5870e24"
      },
      "execution_count": 14,
      "outputs": [
        {
          "output_type": "display_data",
          "data": {
            "text/plain": [
              "<Figure size 432x288 with 1 Axes>"
            ],
            "image/png": "[encoded data removed]"
          },
          "metadata": {}
        },
        {
          "output_type": "display_data",
          "data": {
            "text/plain": [
              "<Figure size 432x288 with 1 Axes>"
            ],
            "image/png": "[encoded data removed]"
          },
          "metadata": {}
        },
        {
          "output_type": "display_data",
          "data": {
            "text/plain": [
              "<Figure size 432x288 with 1 Axes>"
            ],
            "image/png": "[encoded data removed]"
          },
          "metadata": {}
        },
        {
          "output_type": "display_data",
          "data": {
            "text/plain": [
              "<Figure size 432x288 with 1 Axes>"
            ],
            "image/png": "[encoded data removed]"
          },
          "metadata": {}
        },
        {
          "output_type": "display_data",
          "data": {
            "text/plain": [
              "<Figure size 432x288 with 1 Axes>"
            ],
            "image/png": "[encoded data removed]"
          },
          "metadata": {}
        }
      ]
    },
    {
      "cell_type": "markdown",
      "source": [
        "We can see that the different categories in 'traffic' and  'season' are pretty balanced."
      ],
      "metadata": {
        "id": "1mODKb8LmPh8"
      }
    },
    {
      "cell_type": "markdown",
      "source": [
        "Now, we want to see the correlation of each feature with the lable \"count\", that is the target in our case.\n",
        "The hypothesis is that feature with high correlation to the lable will be more important for the model performance in the future."
      ],
      "metadata": {
        "id": "c_gpmMkpgVWv"
      }
    },
    {
      "cell_type": "code",
      "source": [
        "\n",
        "def correlation_numeric_target (data: pd.DataFrame):\n",
        "    X = data.corr(method = 'pearson')['count'][:-1].sort_values()\n",
        "    X = pd.DataFrame(data=X)\n",
        "    X.plot(kind='bar',color='green')\n",
        "    return (X)\n",
        "    \n",
        "correlation_numeric_target(train)\n",
        "\n",
        "\n"
      ],
      "metadata": {
        "colab": {
          "base_uri": "https://localhost:8080/",
          "height": 690
        },
        "id": "Uok1g-eecvSa",
        "outputId": "26430415-f499-434f-e0c7-e4da45a2a5c2"
      },
      "execution_count": 15,
      "outputs": [
        {
          "output_type": "execute_result",
          "data": {
            "text/plain": [
              "               count\n",
              "humidity   -0.318591\n",
              "weather    -0.127838\n",
              "holiday    -0.006760\n",
              "traffic     0.005659\n",
              "workingday  0.013213\n",
              "windspeed   0.102783\n",
              "season      0.162900\n",
              "atemp       0.385754\n",
              "sunlight    0.389597\n",
              "temp        0.389597\n",
              "pollution   0.603815"
            ],
            "text/html": [
              "\n",
              "  <div id=\"df-48457536-4eff-484f-97d4-ef45a83a92cf\">\n",
              "    <div class=\"colab-df-container\">\n",
              "      <div>\n",
              "<style scoped>\n",
              "    .dataframe tbody tr th:only-of-type {\n",
              "        vertical-align: middle;\n",
              "    }\n",
              "\n",
              "    .dataframe tbody tr th {\n",
              "        vertical-align: top;\n",
              "    }\n",
              "\n",
              "    .dataframe thead th {\n",
              "        text-align: right;\n",
              "    }\n",
              "</style>\n",
              "<table border=\"1\" class=\"dataframe\">\n",
              "  <thead>\n",
              "    <tr style=\"text-align: right;\">\n",
              "      <th></th>\n",
              "      <th>count</th>\n",
              "    </tr>\n",
              "  </thead>\n",
              "  <tbody>\n",
              "    <tr>\n",
              "      <th>humidity</th>\n",
              "      <td>-0.318591</td>\n",
              "    </tr>\n",
              "    <tr>\n",
              "      <th>weather</th>\n",
              "      <td>-0.127838</td>\n",
              "    </tr>\n",
              "    <tr>\n",
              "      <th>holiday</th>\n",
              "      <td>-0.006760</td>\n",
              "    </tr>\n",
              "    <tr>\n",
              "      <th>traffic</th>\n",
              "      <td>0.005659</td>\n",
              "    </tr>\n",
              "    <tr>\n",
              "      <th>workingday</th>\n",
              "      <td>0.013213</td>\n",
              "    </tr>\n",
              "    <tr>\n",
              "      <th>windspeed</th>\n",
              "      <td>0.102783</td>\n",
              "    </tr>\n",
              "    <tr>\n",
              "      <th>season</th>\n",
              "      <td>0.162900</td>\n",
              "    </tr>\n",
              "    <tr>\n",
              "      <th>atemp</th>\n",
              "      <td>0.385754</td>\n",
              "    </tr>\n",
              "    <tr>\n",
              "      <th>sunlight</th>\n",
              "      <td>0.389597</td>\n",
              "    </tr>\n",
              "    <tr>\n",
              "      <th>temp</th>\n",
              "      <td>0.389597</td>\n",
              "    </tr>\n",
              "    <tr>\n",
              "      <th>pollution</th>\n",
              "      <td>0.603815</td>\n",
              "    </tr>\n",
              "  </tbody>\n",
              "</table>\n",
              "</div>\n",
              "      <button class=\"colab-df-convert\" onclick=\"convertToInteractive('df-48457536-4eff-484f-97d4-ef45a83a92cf')\"\n",
              "              title=\"Convert this dataframe to an interactive table.\"\n",
              "              style=\"display:none;\">\n",
              "        \n",
              "  <svg xmlns=\"http://www.w3.org/2000/svg\" height=\"24px\"viewBox=\"0 0 24 24\"\n",
              "       width=\"24px\">\n",
              "    <path d=\"M0 0h24v24H0V0z\" fill=\"none\"/>\n",
              "    <path d=\"M18.56 5.44l.94 2.06.94-2.06 2.06-.94-2.06-.94-.94-2.06-.94 2.06-2.06.94zm-11 1L8.5 8.5l.94-2.06 2.06-.94-2.06-.94L8.5 2.5l-.94 2.06-2.06.94zm10 10l.94 2.06.94-2.06 2.06-.94-2.06-.94-.94-2.06-.94 2.06-2.06.94z\"/><path d=\"M17.41 7.96l-1.37-1.37c-.4-.4-.92-.59-1.43-.59-.52 0-1.04.2-1.43.59L10.3 9.45l-7.72 7.72c-.78.78-.78 2.05 0 2.83L4 21.41c.39.39.9.59 1.41.59.51 0 1.02-.2 1.41-.59l7.78-7.78 2.81-2.81c.8-.78.8-2.07 0-2.86zM5.41 20L4 18.59l7.72-7.72 1.47 1.35L5.41 20z\"/>\n",
              "  </svg>\n",
              "      </button>\n",
              "      \n",
              "  <style>\n",
              "    .colab-df-container {\n",
              "      display:flex;\n",
              "      flex-wrap:wrap;\n",
              "      gap: 12px;\n",
              "    }\n",
              "\n",
              "    .colab-df-convert {\n",
              "      background-color: #E8F0FE;\n",
              "      border: none;\n",
              "      border-radius: 50%;\n",
              "      cursor: pointer;\n",
              "      display: none;\n",
              "      fill: #1967D2;\n",
              "      height: 32px;\n",
              "      padding: 0 0 0 0;\n",
              "      width: 32px;\n",
              "    }\n",
              "\n",
              "    .colab-df-convert:hover {\n",
              "      background-color: #E2EBFA;\n",
              "      box-shadow: 0px 1px 2px rgba(60, 64, 67, 0.3), 0px 1px 3px 1px rgba(60, 64, 67, 0.15);\n",
              "      fill: #174EA6;\n",
              "    }\n",
              "\n",
              "    [theme=dark] .colab-df-convert {\n",
              "      background-color: #3B4455;\n",
              "      fill: #D2E3FC;\n",
              "    }\n",
              "\n",
              "    [theme=dark] .colab-df-convert:hover {\n",
              "      background-color: #434B5C;\n",
              "      box-shadow: 0px 1px 3px 1px rgba(0, 0, 0, 0.15);\n",
              "      filter: drop-shadow(0px 1px 2px rgba(0, 0, 0, 0.3));\n",
              "      fill: #FFFFFF;\n",
              "    }\n",
              "  </style>\n",
              "\n",
              "      <script>\n",
              "        const buttonEl =\n",
              "          document.querySelector('#df-48457536-4eff-484f-97d4-ef45a83a92cf button.colab-df-convert');\n",
              "        buttonEl.style.display =\n",
              "          google.colab.kernel.accessAllowed ? 'block' : 'none';\n",
              "\n",
              "        async function convertToInteractive(key) {\n",
              "          const element = document.querySelector('#df-48457536-4eff-484f-97d4-ef45a83a92cf');\n",
              "          const dataTable =\n",
              "            await google.colab.kernel.invokeFunction('convertToInteractive',\n",
              "                                                     [key], {});\n",
              "          if (!dataTable) return;\n",
              "\n",
              "          const docLinkHtml = 'Like what you see? Visit the ' +\n",
              "            '<a target=\"_blank\" href=https://colab.research.google.com/notebooks/data_table.ipynb>data table notebook</a>'\n",
              "            + ' to learn more about interactive tables.';\n",
              "          element.innerHTML = '';\n",
              "          dataTable['output_type'] = 'display_data';\n",
              "          await google.colab.output.renderOutput(dataTable, element);\n",
              "          const docLink = document.createElement('div');\n",
              "          docLink.innerHTML = docLinkHtml;\n",
              "          element.appendChild(docLink);\n",
              "        }\n",
              "      </script>\n",
              "    </div>\n",
              "  </div>\n",
              "  "
            ]
          },
          "metadata": {},
          "execution_count": 15
        },
        {
          "output_type": "display_data",
          "data": {
            "text/plain": [
              "<Figure size 432x288 with 1 Axes>"
            ],
            "image/png": "[encoded data removed]"
          },
          "metadata": {
            "needs_background": "light"
          }
        }
      ]
    },
    {
      "cell_type": "markdown",
      "source": [
        "We can see that 'pollution' has high correlation with the lable, and also we can get another assurance for the correlation between 'temp', 'atemp' and 'sunlight' features - as they correlate almost equally with the lable."
      ],
      "metadata": {
        "id": "dVxvmSUqm79a"
      }
    },
    {
      "cell_type": "markdown",
      "source": [
        "## Pre-processing\n",
        "*Feature Engineering*\n"
      ],
      "metadata": {
        "id": "Bb8wG0zdnJ2i"
      }
    },
    {
      "cell_type": "markdown",
      "source": [
        "Handling features with high correlation - dropping the feature 'temp' in which it's correlation with 'sunlight' is 100%:"
      ],
      "metadata": {
        "id": "Stsd3z_wowT0"
      }
    },
    {
      "cell_type": "code",
      "source": [
        "def delete_corr_features(df):\n",
        "    df.drop('temp', axis = 1, inplace = True)\n",
        "    return df\n",
        "\n",
        "X = delete_corr_features(X)"
      ],
      "metadata": {
        "id": "wieVB1cFpMfq"
      },
      "execution_count": 16,
      "outputs": []
    },
    {
      "cell_type": "code",
      "source": [
        "X"
      ],
      "metadata": {
        "colab": {
          "base_uri": "https://localhost:8080/",
          "height": 424
        },
        "id": "nA_mYPZDpft0",
        "outputId": "5ee0e38a-06e2-4b86-db62-dfdd38a46eb6"
      },
      "execution_count": 17,
      "outputs": [
        {
          "output_type": "execute_result",
          "data": {
            "text/plain": [
              "                datetime  season  holiday  workingday  weather   atemp  \\\n",
              "0    2011-07-11 00:00:00       3        0           1        1  32.575   \n",
              "1    2012-05-18 22:00:00       2        0           1        1  26.515   \n",
              "2    2011-04-01 23:00:00       2        0           1        1  15.910   \n",
              "3    2012-09-16 09:00:00       3        0           0        1  27.275   \n",
              "4    2011-02-01 23:00:00       1        0           1        3   9.850   \n",
              "...                  ...     ...      ...         ...      ...     ...   \n",
              "8159 2012-01-14 02:00:00       1        0           0        1   8.335   \n",
              "8160 2011-12-10 09:00:00       4        0           0        1  12.880   \n",
              "8161 2011-12-18 16:00:00       4        0           0        1  13.635   \n",
              "8162 2011-02-19 07:00:00       1        0           0        1  19.695   \n",
              "8163 2012-05-02 07:00:00       2        0           1        2  25.760   \n",
              "\n",
              "      humidity  windspeed  pollution  sunlight   traffic  \n",
              "0           65    12.9980   5.354100    28.701  0.000000  \n",
              "1           52    22.0028  85.425233    22.961  0.004489  \n",
              "2           61     6.0032   2.040899    12.301  0.000242  \n",
              "3           60     8.9981  26.682772    23.781  0.004489  \n",
              "4           93    12.9980   5.851754     8.201  0.000000  \n",
              "...        ...        ...        ...       ...       ...  \n",
              "8159        47    11.0014  14.953355     6.561  0.004489  \n",
              "8160        61    19.0012   7.977025    11.481  0.000000  \n",
              "8161        48    16.9979   6.916512    11.481  0.015615  \n",
              "8162        17    35.0008   0.095445    15.581  0.000242  \n",
              "8163        88    12.9980  81.965417    22.141  0.015615  \n",
              "\n",
              "[8164 rows x 11 columns]"
            ],
            "text/html": [
              "\n",
              "  <div id=\"df-3d96de78-46f6-46a8-9ef7-c555914961b5\">\n",
              "    <div class=\"colab-df-container\">\n",
              "      <div>\n",
              "<style scoped>\n",
              "    .dataframe tbody tr th:only-of-type {\n",
              "        vertical-align: middle;\n",
              "    }\n",
              "\n",
              "    .dataframe tbody tr th {\n",
              "        vertical-align: top;\n",
              "    }\n",
              "\n",
              "    .dataframe thead th {\n",
              "        text-align: right;\n",
              "    }\n",
              "</style>\n",
              "<table border=\"1\" class=\"dataframe\">\n",
              "  <thead>\n",
              "    <tr style=\"text-align: right;\">\n",
              "      <th></th>\n",
              "      <th>datetime</th>\n",
              "      <th>season</th>\n",
              "      <th>holiday</th>\n",
              "      <th>workingday</th>\n",
              "      <th>weather</th>\n",
              "      <th>atemp</th>\n",
              "      <th>humidity</th>\n",
              "      <th>windspeed</th>\n",
              "      <th>pollution</th>\n",
              "      <th>sunlight</th>\n",
              "      <th>traffic</th>\n",
              "    </tr>\n",
              "  </thead>\n",
              "  <tbody>\n",
              "    <tr>\n",
              "      <th>0</th>\n",
              "      <td>2011-07-11 00:00:00</td>\n",
              "      <td>3</td>\n",
              "      <td>0</td>\n",
              "      <td>1</td>\n",
              "      <td>1</td>\n",
              "      <td>32.575</td>\n",
              "      <td>65</td>\n",
              "      <td>12.9980</td>\n",
              "      <td>5.354100</td>\n",
              "      <td>28.701</td>\n",
              "      <td>0.000000</td>\n",
              "    </tr>\n",
              "    <tr>\n",
              "      <th>1</th>\n",
              "      <td>2012-05-18 22:00:00</td>\n",
              "      <td>2</td>\n",
              "      <td>0</td>\n",
              "      <td>1</td>\n",
              "      <td>1</td>\n",
              "      <td>26.515</td>\n",
              "      <td>52</td>\n",
              "      <td>22.0028</td>\n",
              "      <td>85.425233</td>\n",
              "      <td>22.961</td>\n",
              "      <td>0.004489</td>\n",
              "    </tr>\n",
              "    <tr>\n",
              "      <th>2</th>\n",
              "      <td>2011-04-01 23:00:00</td>\n",
              "      <td>2</td>\n",
              "      <td>0</td>\n",
              "      <td>1</td>\n",
              "      <td>1</td>\n",
              "      <td>15.910</td>\n",
              "      <td>61</td>\n",
              "      <td>6.0032</td>\n",
              "      <td>2.040899</td>\n",
              "      <td>12.301</td>\n",
              "      <td>0.000242</td>\n",
              "    </tr>\n",
              "    <tr>\n",
              "      <th>3</th>\n",
              "      <td>2012-09-16 09:00:00</td>\n",
              "      <td>3</td>\n",
              "      <td>0</td>\n",
              "      <td>0</td>\n",
              "      <td>1</td>\n",
              "      <td>27.275</td>\n",
              "      <td>60</td>\n",
              "      <td>8.9981</td>\n",
              "      <td>26.682772</td>\n",
              "      <td>23.781</td>\n",
              "      <td>0.004489</td>\n",
              "    </tr>\n",
              "    <tr>\n",
              "      <th>4</th>\n",
              "      <td>2011-02-01 23:00:00</td>\n",
              "      <td>1</td>\n",
              "      <td>0</td>\n",
              "      <td>1</td>\n",
              "      <td>3</td>\n",
              "      <td>9.850</td>\n",
              "      <td>93</td>\n",
              "      <td>12.9980</td>\n",
              "      <td>5.851754</td>\n",
              "      <td>8.201</td>\n",
              "      <td>0.000000</td>\n",
              "    </tr>\n",
              "    <tr>\n",
              "      <th>...</th>\n",
              "      <td>...</td>\n",
              "      <td>...</td>\n",
              "      <td>...</td>\n",
              "      <td>...</td>\n",
              "      <td>...</td>\n",
              "      <td>...</td>\n",
              "      <td>...</td>\n",
              "      <td>...</td>\n",
              "      <td>...</td>\n",
              "      <td>...</td>\n",
              "      <td>...</td>\n",
              "    </tr>\n",
              "    <tr>\n",
              "      <th>8159</th>\n",
              "      <td>2012-01-14 02:00:00</td>\n",
              "      <td>1</td>\n",
              "      <td>0</td>\n",
              "      <td>0</td>\n",
              "      <td>1</td>\n",
              "      <td>8.335</td>\n",
              "      <td>47</td>\n",
              "      <td>11.0014</td>\n",
              "      <td>14.953355</td>\n",
              "      <td>6.561</td>\n",
              "      <td>0.004489</td>\n",
              "    </tr>\n",
              "    <tr>\n",
              "      <th>8160</th>\n",
              "      <td>2011-12-10 09:00:00</td>\n",
              "      <td>4</td>\n",
              "      <td>0</td>\n",
              "      <td>0</td>\n",
              "      <td>1</td>\n",
              "      <td>12.880</td>\n",
              "      <td>61</td>\n",
              "      <td>19.0012</td>\n",
              "      <td>7.977025</td>\n",
              "      <td>11.481</td>\n",
              "      <td>0.000000</td>\n",
              "    </tr>\n",
              "    <tr>\n",
              "      <th>8161</th>\n",
              "      <td>2011-12-18 16:00:00</td>\n",
              "      <td>4</td>\n",
              "      <td>0</td>\n",
              "      <td>0</td>\n",
              "      <td>1</td>\n",
              "      <td>13.635</td>\n",
              "      <td>48</td>\n",
              "      <td>16.9979</td>\n",
              "      <td>6.916512</td>\n",
              "      <td>11.481</td>\n",
              "      <td>0.015615</td>\n",
              "    </tr>\n",
              "    <tr>\n",
              "      <th>8162</th>\n",
              "      <td>2011-02-19 07:00:00</td>\n",
              "      <td>1</td>\n",
              "      <td>0</td>\n",
              "      <td>0</td>\n",
              "      <td>1</td>\n",
              "      <td>19.695</td>\n",
              "      <td>17</td>\n",
              "      <td>35.0008</td>\n",
              "      <td>0.095445</td>\n",
              "      <td>15.581</td>\n",
              "      <td>0.000242</td>\n",
              "    </tr>\n",
              "    <tr>\n",
              "      <th>8163</th>\n",
              "      <td>2012-05-02 07:00:00</td>\n",
              "      <td>2</td>\n",
              "      <td>0</td>\n",
              "      <td>1</td>\n",
              "      <td>2</td>\n",
              "      <td>25.760</td>\n",
              "      <td>88</td>\n",
              "      <td>12.9980</td>\n",
              "      <td>81.965417</td>\n",
              "      <td>22.141</td>\n",
              "      <td>0.015615</td>\n",
              "    </tr>\n",
              "  </tbody>\n",
              "</table>\n",
              "<p>8164 rows × 11 columns</p>\n",
              "</div>\n",
              "      <button class=\"colab-df-convert\" onclick=\"convertToInteractive('df-3d96de78-46f6-46a8-9ef7-c555914961b5')\"\n",
              "              title=\"Convert this dataframe to an interactive table.\"\n",
              "              style=\"display:none;\">\n",
              "        \n",
              "  <svg xmlns=\"http://www.w3.org/2000/svg\" height=\"24px\"viewBox=\"0 0 24 24\"\n",
              "       width=\"24px\">\n",
              "    <path d=\"M0 0h24v24H0V0z\" fill=\"none\"/>\n",
              "    <path d=\"M18.56 5.44l.94 2.06.94-2.06 2.06-.94-2.06-.94-.94-2.06-.94 2.06-2.06.94zm-11 1L8.5 8.5l.94-2.06 2.06-.94-2.06-.94L8.5 2.5l-.94 2.06-2.06.94zm10 10l.94 2.06.94-2.06 2.06-.94-2.06-.94-.94-2.06-.94 2.06-2.06.94z\"/><path d=\"M17.41 7.96l-1.37-1.37c-.4-.4-.92-.59-1.43-.59-.52 0-1.04.2-1.43.59L10.3 9.45l-7.72 7.72c-.78.78-.78 2.05 0 2.83L4 21.41c.39.39.9.59 1.41.59.51 0 1.02-.2 1.41-.59l7.78-7.78 2.81-2.81c.8-.78.8-2.07 0-2.86zM5.41 20L4 18.59l7.72-7.72 1.47 1.35L5.41 20z\"/>\n",
              "  </svg>\n",
              "      </button>\n",
              "      \n",
              "  <style>\n",
              "    .colab-df-container {\n",
              "      display:flex;\n",
              "      flex-wrap:wrap;\n",
              "      gap: 12px;\n",
              "    }\n",
              "\n",
              "    .colab-df-convert {\n",
              "      background-color: #E8F0FE;\n",
              "      border: none;\n",
              "      border-radius: 50%;\n",
              "      cursor: pointer;\n",
              "      display: none;\n",
              "      fill: #1967D2;\n",
              "      height: 32px;\n",
              "      padding: 0 0 0 0;\n",
              "      width: 32px;\n",
              "    }\n",
              "\n",
              "    .colab-df-convert:hover {\n",
              "      background-color: #E2EBFA;\n",
              "      box-shadow: 0px 1px 2px rgba(60, 64, 67, 0.3), 0px 1px 3px 1px rgba(60, 64, 67, 0.15);\n",
              "      fill: #174EA6;\n",
              "    }\n",
              "\n",
              "    [theme=dark] .colab-df-convert {\n",
              "      background-color: #3B4455;\n",
              "      fill: #D2E3FC;\n",
              "    }\n",
              "\n",
              "    [theme=dark] .colab-df-convert:hover {\n",
              "      background-color: #434B5C;\n",
              "      box-shadow: 0px 1px 3px 1px rgba(0, 0, 0, 0.15);\n",
              "      filter: drop-shadow(0px 1px 2px rgba(0, 0, 0, 0.3));\n",
              "      fill: #FFFFFF;\n",
              "    }\n",
              "  </style>\n",
              "\n",
              "      <script>\n",
              "        const buttonEl =\n",
              "          document.querySelector('#df-3d96de78-46f6-46a8-9ef7-c555914961b5 button.colab-df-convert');\n",
              "        buttonEl.style.display =\n",
              "          google.colab.kernel.accessAllowed ? 'block' : 'none';\n",
              "\n",
              "        async function convertToInteractive(key) {\n",
              "          const element = document.querySelector('#df-3d96de78-46f6-46a8-9ef7-c555914961b5');\n",
              "          const dataTable =\n",
              "            await google.colab.kernel.invokeFunction('convertToInteractive',\n",
              "                                                     [key], {});\n",
              "          if (!dataTable) return;\n",
              "\n",
              "          const docLinkHtml = 'Like what you see? Visit the ' +\n",
              "            '<a target=\"_blank\" href=https://colab.research.google.com/notebooks/data_table.ipynb>data table notebook</a>'\n",
              "            + ' to learn more about interactive tables.';\n",
              "          element.innerHTML = '';\n",
              "          dataTable['output_type'] = 'display_data';\n",
              "          await google.colab.output.renderOutput(dataTable, element);\n",
              "          const docLink = document.createElement('div');\n",
              "          docLink.innerHTML = docLinkHtml;\n",
              "          element.appendChild(docLink);\n",
              "        }\n",
              "      </script>\n",
              "    </div>\n",
              "  </div>\n",
              "  "
            ]
          },
          "metadata": {},
          "execution_count": 17
        }
      ]
    },
    {
      "cell_type": "markdown",
      "source": [
        "**Creating new features:**"
      ],
      "metadata": {
        "id": "lcCgiuwJtSwg"
      }
    },
    {
      "cell_type": "markdown",
      "source": [
        "Let's break apart apart the 'datetime' featur and get the year, month, day, day of week and hour."
      ],
      "metadata": {
        "id": "rczSydoll3hk"
      }
    },
    {
      "cell_type": "code",
      "source": [
        "def create_new_date_features(df): \n",
        "  df['year']= df['datetime'].dt.year\n",
        "  df['month']= df['datetime'].dt.month\n",
        "  df['day']= df['datetime'].dt.day\n",
        "  df['dayofweek'] = df['datetime'].dt.dayofweek\n",
        "  df['hour']= df['datetime'].dt.hour\n",
        "  return df\n",
        "\n",
        "# verifing our work\n",
        "X = create_new_date_features(X)\n",
        "X[['datetime','year','month','day','dayofweek','hour']].head(10)\n"
      ],
      "metadata": {
        "colab": {
          "base_uri": "https://localhost:8080/",
          "height": 363
        },
        "id": "zUb3NduqtUUI",
        "outputId": "1444b192-4d2b-4435-fb70-1c3e6b642886"
      },
      "execution_count": 18,
      "outputs": [
        {
          "output_type": "execute_result",
          "data": {
            "text/plain": [
              "             datetime  year  month  day  dayofweek  hour\n",
              "0 2011-07-11 00:00:00  2011      7   11          0     0\n",
              "1 2012-05-18 22:00:00  2012      5   18          4    22\n",
              "2 2011-04-01 23:00:00  2011      4    1          4    23\n",
              "3 2012-09-16 09:00:00  2012      9   16          6     9\n",
              "4 2011-02-01 23:00:00  2011      2    1          1    23\n",
              "5 2012-08-07 12:00:00  2012      8    7          1    12\n",
              "6 2012-11-06 21:00:00  2012     11    6          1    21\n",
              "7 2011-07-13 22:00:00  2011      7   13          2    22\n",
              "8 2012-09-19 23:00:00  2012      9   19          2    23\n",
              "9 2012-06-02 12:00:00  2012      6    2          5    12"
            ],
            "text/html": [
              "\n",
              "  <div id=\"df-73c6ba71-28e3-418c-982d-04f32bee8f4b\">\n",
              "    <div class=\"colab-df-container\">\n",
              "      <div>\n",
              "<style scoped>\n",
              "    .dataframe tbody tr th:only-of-type {\n",
              "        vertical-align: middle;\n",
              "    }\n",
              "\n",
              "    .dataframe tbody tr th {\n",
              "        vertical-align: top;\n",
              "    }\n",
              "\n",
              "    .dataframe thead th {\n",
              "        text-align: right;\n",
              "    }\n",
              "</style>\n",
              "<table border=\"1\" class=\"dataframe\">\n",
              "  <thead>\n",
              "    <tr style=\"text-align: right;\">\n",
              "      <th></th>\n",
              "      <th>datetime</th>\n",
              "      <th>year</th>\n",
              "      <th>month</th>\n",
              "      <th>day</th>\n",
              "      <th>dayofweek</th>\n",
              "      <th>hour</th>\n",
              "    </tr>\n",
              "  </thead>\n",
              "  <tbody>\n",
              "    <tr>\n",
              "      <th>0</th>\n",
              "      <td>2011-07-11 00:00:00</td>\n",
              "      <td>2011</td>\n",
              "      <td>7</td>\n",
              "      <td>11</td>\n",
              "      <td>0</td>\n",
              "      <td>0</td>\n",
              "    </tr>\n",
              "    <tr>\n",
              "      <th>1</th>\n",
              "      <td>2012-05-18 22:00:00</td>\n",
              "      <td>2012</td>\n",
              "      <td>5</td>\n",
              "      <td>18</td>\n",
              "      <td>4</td>\n",
              "      <td>22</td>\n",
              "    </tr>\n",
              "    <tr>\n",
              "      <th>2</th>\n",
              "      <td>2011-04-01 23:00:00</td>\n",
              "      <td>2011</td>\n",
              "      <td>4</td>\n",
              "      <td>1</td>\n",
              "      <td>4</td>\n",
              "      <td>23</td>\n",
              "    </tr>\n",
              "    <tr>\n",
              "      <th>3</th>\n",
              "      <td>2012-09-16 09:00:00</td>\n",
              "      <td>2012</td>\n",
              "      <td>9</td>\n",
              "      <td>16</td>\n",
              "      <td>6</td>\n",
              "      <td>9</td>\n",
              "    </tr>\n",
              "    <tr>\n",
              "      <th>4</th>\n",
              "      <td>2011-02-01 23:00:00</td>\n",
              "      <td>2011</td>\n",
              "      <td>2</td>\n",
              "      <td>1</td>\n",
              "      <td>1</td>\n",
              "      <td>23</td>\n",
              "    </tr>\n",
              "    <tr>\n",
              "      <th>5</th>\n",
              "      <td>2012-08-07 12:00:00</td>\n",
              "      <td>2012</td>\n",
              "      <td>8</td>\n",
              "      <td>7</td>\n",
              "      <td>1</td>\n",
              "      <td>12</td>\n",
              "    </tr>\n",
              "    <tr>\n",
              "      <th>6</th>\n",
              "      <td>2012-11-06 21:00:00</td>\n",
              "      <td>2012</td>\n",
              "      <td>11</td>\n",
              "      <td>6</td>\n",
              "      <td>1</td>\n",
              "      <td>21</td>\n",
              "    </tr>\n",
              "    <tr>\n",
              "      <th>7</th>\n",
              "      <td>2011-07-13 22:00:00</td>\n",
              "      <td>2011</td>\n",
              "      <td>7</td>\n",
              "      <td>13</td>\n",
              "      <td>2</td>\n",
              "      <td>22</td>\n",
              "    </tr>\n",
              "    <tr>\n",
              "      <th>8</th>\n",
              "      <td>2012-09-19 23:00:00</td>\n",
              "      <td>2012</td>\n",
              "      <td>9</td>\n",
              "      <td>19</td>\n",
              "      <td>2</td>\n",
              "      <td>23</td>\n",
              "    </tr>\n",
              "    <tr>\n",
              "      <th>9</th>\n",
              "      <td>2012-06-02 12:00:00</td>\n",
              "      <td>2012</td>\n",
              "      <td>6</td>\n",
              "      <td>2</td>\n",
              "      <td>5</td>\n",
              "      <td>12</td>\n",
              "    </tr>\n",
              "  </tbody>\n",
              "</table>\n",
              "</div>\n",
              "      <button class=\"colab-df-convert\" onclick=\"convertToInteractive('df-73c6ba71-28e3-418c-982d-04f32bee8f4b')\"\n",
              "              title=\"Convert this dataframe to an interactive table.\"\n",
              "              style=\"display:none;\">\n",
              "        \n",
              "  <svg xmlns=\"http://www.w3.org/2000/svg\" height=\"24px\"viewBox=\"0 0 24 24\"\n",
              "       width=\"24px\">\n",
              "    <path d=\"M0 0h24v24H0V0z\" fill=\"none\"/>\n",
              "    <path d=\"M18.56 5.44l.94 2.06.94-2.06 2.06-.94-2.06-.94-.94-2.06-.94 2.06-2.06.94zm-11 1L8.5 8.5l.94-2.06 2.06-.94-2.06-.94L8.5 2.5l-.94 2.06-2.06.94zm10 10l.94 2.06.94-2.06 2.06-.94-2.06-.94-.94-2.06-.94 2.06-2.06.94z\"/><path d=\"M17.41 7.96l-1.37-1.37c-.4-.4-.92-.59-1.43-.59-.52 0-1.04.2-1.43.59L10.3 9.45l-7.72 7.72c-.78.78-.78 2.05 0 2.83L4 21.41c.39.39.9.59 1.41.59.51 0 1.02-.2 1.41-.59l7.78-7.78 2.81-2.81c.8-.78.8-2.07 0-2.86zM5.41 20L4 18.59l7.72-7.72 1.47 1.35L5.41 20z\"/>\n",
              "  </svg>\n",
              "      </button>\n",
              "      \n",
              "  <style>\n",
              "    .colab-df-container {\n",
              "      display:flex;\n",
              "      flex-wrap:wrap;\n",
              "      gap: 12px;\n",
              "    }\n",
              "\n",
              "    .colab-df-convert {\n",
              "      background-color: #E8F0FE;\n",
              "      border: none;\n",
              "      border-radius: 50%;\n",
              "      cursor: pointer;\n",
              "      display: none;\n",
              "      fill: #1967D2;\n",
              "      height: 32px;\n",
              "      padding: 0 0 0 0;\n",
              "      width: 32px;\n",
              "    }\n",
              "\n",
              "    .colab-df-convert:hover {\n",
              "      background-color: #E2EBFA;\n",
              "      box-shadow: 0px 1px 2px rgba(60, 64, 67, 0.3), 0px 1px 3px 1px rgba(60, 64, 67, 0.15);\n",
              "      fill: #174EA6;\n",
              "    }\n",
              "\n",
              "    [theme=dark] .colab-df-convert {\n",
              "      background-color: #3B4455;\n",
              "      fill: #D2E3FC;\n",
              "    }\n",
              "\n",
              "    [theme=dark] .colab-df-convert:hover {\n",
              "      background-color: #434B5C;\n",
              "      box-shadow: 0px 1px 3px 1px rgba(0, 0, 0, 0.15);\n",
              "      filter: drop-shadow(0px 1px 2px rgba(0, 0, 0, 0.3));\n",
              "      fill: #FFFFFF;\n",
              "    }\n",
              "  </style>\n",
              "\n",
              "      <script>\n",
              "        const buttonEl =\n",
              "          document.querySelector('#df-73c6ba71-28e3-418c-982d-04f32bee8f4b button.colab-df-convert');\n",
              "        buttonEl.style.display =\n",
              "          google.colab.kernel.accessAllowed ? 'block' : 'none';\n",
              "\n",
              "        async function convertToInteractive(key) {\n",
              "          const element = document.querySelector('#df-73c6ba71-28e3-418c-982d-04f32bee8f4b');\n",
              "          const dataTable =\n",
              "            await google.colab.kernel.invokeFunction('convertToInteractive',\n",
              "                                                     [key], {});\n",
              "          if (!dataTable) return;\n",
              "\n",
              "          const docLinkHtml = 'Like what you see? Visit the ' +\n",
              "            '<a target=\"_blank\" href=https://colab.research.google.com/notebooks/data_table.ipynb>data table notebook</a>'\n",
              "            + ' to learn more about interactive tables.';\n",
              "          element.innerHTML = '';\n",
              "          dataTable['output_type'] = 'display_data';\n",
              "          await google.colab.output.renderOutput(dataTable, element);\n",
              "          const docLink = document.createElement('div');\n",
              "          docLink.innerHTML = docLinkHtml;\n",
              "          element.appendChild(docLink);\n",
              "        }\n",
              "      </script>\n",
              "    </div>\n",
              "  </div>\n",
              "  "
            ]
          },
          "metadata": {},
          "execution_count": 18
        }
      ]
    },
    {
      "cell_type": "markdown",
      "source": [
        "At this point it would be good to explore our dates a bit."
      ],
      "metadata": {
        "id": "xCYWNbURmeb_"
      }
    },
    {
      "cell_type": "code",
      "source": [
        "X.groupby('year').size()"
      ],
      "metadata": {
        "colab": {
          "base_uri": "https://localhost:8080/"
        },
        "id": "DFhjdX-BmlMp",
        "outputId": "bd43fd41-1222-4c32-88c7-78de032a630b"
      },
      "execution_count": 19,
      "outputs": [
        {
          "output_type": "execute_result",
          "data": {
            "text/plain": [
              "year\n",
              "2011    4064\n",
              "2012    4100\n",
              "dtype: int64"
            ]
          },
          "metadata": {},
          "execution_count": 19
        }
      ]
    },
    {
      "cell_type": "code",
      "source": [
        "X.groupby('month').size()"
      ],
      "metadata": {
        "colab": {
          "base_uri": "https://localhost:8080/"
        },
        "id": "adIjTamjmyln",
        "outputId": "bfacd726-67f1-4f53-ad1b-c0607f37eaa3"
      },
      "execution_count": 20,
      "outputs": [
        {
          "output_type": "execute_result",
          "data": {
            "text/plain": [
              "month\n",
              "1     650\n",
              "2     678\n",
              "3     679\n",
              "4     665\n",
              "5     699\n",
              "6     687\n",
              "7     679\n",
              "8     692\n",
              "9     668\n",
              "10    695\n",
              "11    695\n",
              "12    677\n",
              "dtype: int64"
            ]
          },
          "metadata": {},
          "execution_count": 20
        }
      ]
    },
    {
      "cell_type": "code",
      "source": [
        "X.groupby('dayofweek').size()"
      ],
      "metadata": {
        "colab": {
          "base_uri": "https://localhost:8080/"
        },
        "id": "v0Sme7FPngiC",
        "outputId": "d7876d41-f938-4ca9-f05f-1c3def57db5c"
      },
      "execution_count": 21,
      "outputs": [
        {
          "output_type": "execute_result",
          "data": {
            "text/plain": [
              "dayofweek\n",
              "0    1155\n",
              "1    1166\n",
              "2    1170\n",
              "3    1171\n",
              "4    1156\n",
              "5    1177\n",
              "6    1169\n",
              "dtype: int64"
            ]
          },
          "metadata": {},
          "execution_count": 21
        }
      ]
    },
    {
      "cell_type": "code",
      "source": [
        "X.groupby('hour').size()"
      ],
      "metadata": {
        "colab": {
          "base_uri": "https://localhost:8080/"
        },
        "id": "T9FZGhBp0CWV",
        "outputId": "e264411f-0f01-46b3-a9bc-2f791a07247e"
      },
      "execution_count": 22,
      "outputs": [
        {
          "output_type": "execute_result",
          "data": {
            "text/plain": [
              "hour\n",
              "0     350\n",
              "1     335\n",
              "2     345\n",
              "3     327\n",
              "4     337\n",
              "5     343\n",
              "6     340\n",
              "7     337\n",
              "8     344\n",
              "9     337\n",
              "10    342\n",
              "11    332\n",
              "12    336\n",
              "13    330\n",
              "14    335\n",
              "15    345\n",
              "16    342\n",
              "17    352\n",
              "18    357\n",
              "19    341\n",
              "20    339\n",
              "21    329\n",
              "22    338\n",
              "23    351\n",
              "dtype: int64"
            ]
          },
          "metadata": {},
          "execution_count": 22
        }
      ]
    },
    {
      "cell_type": "markdown",
      "source": [
        "As we can see here, the dataset contains information abut every day and every month in the years 2011-2012."
      ],
      "metadata": {
        "id": "hg_PMMlhoH3k"
      }
    },
    {
      "cell_type": "markdown",
      "source": [
        "Let’s check if the 'hour' feature has some corrolation with 'counts':"
      ],
      "metadata": {
        "id": "2-K3l0bwow-b"
      }
    },
    {
      "cell_type": "code",
      "source": [
        "sns.scatterplot(x='hour', y=train['count'], data=X);\n",
        "plt.show()\n",
        "X['hour'].corr(train['count'])"
      ],
      "metadata": {
        "colab": {
          "base_uri": "https://localhost:8080/",
          "height": 297
        },
        "id": "6Gry-RaZo5tm",
        "outputId": "4876f8c5-42b6-4f7d-de7a-e35791b040d5"
      },
      "execution_count": 23,
      "outputs": [
        {
          "output_type": "display_data",
          "data": {
            "text/plain": [
              "<Figure size 432x288 with 1 Axes>"
            ],
            "image/png": "[encoded data removed]"
          },
          "metadata": {
            "needs_background": "light"
          }
        },
        {
          "output_type": "execute_result",
          "data": {
            "text/plain": [
              "0.40616998564636053"
            ]
          },
          "metadata": {},
          "execution_count": 23
        }
      ]
    },
    {
      "cell_type": "markdown",
      "source": [
        "Looks like there is a correlation between the hour of the day and the counts. <br> We can see that more bikes are being used around 08:00 am and around 17:00 pm."
      ],
      "metadata": {
        "id": "I7LYPNzspspU"
      }
    },
    {
      "cell_type": "markdown",
      "source": [
        "We chose to remove the datetime parameter, since we saved all the information that was in this feature separatly, and we can remove it without losing information.\n",
        "Also we can see that the correlation is higher when the features are presented separatly."
      ],
      "metadata": {
        "id": "9bNssb4DC4N9"
      }
    },
    {
      "cell_type": "code",
      "source": [
        "def drop_datetime(df) :\n",
        "  df.drop('datetime', axis = 1, inplace = True)\n",
        "  return df\n",
        "\n",
        "X = drop_datetime(X)"
      ],
      "metadata": {
        "id": "nRChEpknDw-A"
      },
      "execution_count": 24,
      "outputs": []
    },
    {
      "cell_type": "markdown",
      "source": [
        "\n",
        "In the exploration part, we saw that the features 'pollution', 'atemp', and 'sunlight' have a positive correlation with the label while 'humidity' and 'weather' have a negative correlation with it. <br>\n",
        "Let's create a new feature 'its_getting_hot_in_here' that combines 'pollution', 'atemp', and 'sunlight' and extracts 'humidity' and 'weather' and check its correlation with the label."
      ],
      "metadata": {
        "id": "BpRbpCE-8ege"
      }
    },
    {
      "cell_type": "code",
      "source": [
        "def create_new_weather_feature(df):  \n",
        "  df['its_getting_hot_in_here'] =( (df['pollution']) + (df['atemp']) + (df['sunlight']) ) - (df['humidity'] + df['weather'])\n",
        "  return df\n",
        "\n",
        "create_new_weather_feature(X)\n",
        "X['its_getting_hot_in_here'].corr(train['count'])"
      ],
      "metadata": {
        "colab": {
          "base_uri": "https://localhost:8080/"
        },
        "id": "h_n9VIWC5RvW",
        "outputId": "0ab1e7f1-7b3e-42ca-c2ce-0e66305775dc"
      },
      "execution_count": 25,
      "outputs": [
        {
          "output_type": "execute_result",
          "data": {
            "text/plain": [
              "0.6718558268867101"
            ]
          },
          "metadata": {},
          "execution_count": 25
        }
      ]
    },
    {
      "cell_type": "markdown",
      "source": [
        "#Model Selection : "
      ],
      "metadata": {
        "id": "S5iF3qiGC1YL"
      }
    },
    {
      "cell_type": "markdown",
      "source": [
        "Now that we have the data prepared, we can proceed to train a model. Given a set of features, our goal is to predict a real number - the value of the property. In other words, this is a regression probelm so we'll only consider regression algorithms. We choose to consider the following models : <br>\n",
        "\n",
        "\n",
        "*   Random forest\n",
        "*   Linear regression\n",
        "*   Decision tree\n",
        "\n",
        "\n",
        "\n"
      ],
      "metadata": {
        "id": "lYlVmTJ9FNp1"
      }
    },
    {
      "cell_type": "code",
      "source": [
        "models = {'Random forest': None,\n",
        "          'Linear regression': None,\n",
        "          'Decision tree': None}\n"
      ],
      "metadata": {
        "id": "rsb0LGcwFHK_"
      },
      "execution_count": 26,
      "outputs": []
    },
    {
      "cell_type": "markdown",
      "source": [
        "## Random Forest :"
      ],
      "metadata": {
        "id": "RbX65-B4F3uD"
      }
    },
    {
      "cell_type": "code",
      "source": [
        "from sklearn.ensemble import RandomForestRegressor\n",
        "from sklearn.model_selection import GridSearchCV"
      ],
      "metadata": {
        "id": "lLPJuNPVDE8y"
      },
      "execution_count": 27,
      "outputs": []
    },
    {
      "cell_type": "code",
      "source": [
        "def run_random_forest(x_train, y_train):\n",
        "  rf = RandomForestRegressor(n_estimators=200, random_state=42)\n",
        "  tuned_rf = GridSearchCV(estimator=rf, \n",
        "                          param_grid={'max_features': ['auto', 'sqrt', 'log2', 1/3]},\n",
        "                          scoring='neg_mean_squared_error',\n",
        "                          cv=3, \n",
        "                          verbose=3,\n",
        "                          refit=True)\n",
        "  tuned_rf.fit(x_train, y_train)\n",
        "  return tuned_rf"
      ],
      "metadata": {
        "id": "vGS9lXooJXVp"
      },
      "execution_count": 28,
      "outputs": []
    },
    {
      "cell_type": "markdown",
      "source": [
        "##Linear regression : "
      ],
      "metadata": {
        "id": "JDDE_PdfGm9y"
      }
    },
    {
      "cell_type": "code",
      "source": [
        "from sklearn.linear_model import LinearRegression\n",
        "from sklearn.model_selection import cross_val_score"
      ],
      "metadata": {
        "id": "Wf5CF2yNGpYO"
      },
      "execution_count": 29,
      "outputs": []
    },
    {
      "cell_type": "code",
      "source": [
        "def run_linear_regression(x_train, y_train):\n",
        "  lr = LinearRegression()\n",
        "  lr.fit(x_train, np.ravel(y_train))\n",
        "  cv_score = cross_val_score(lr, x_train, y_train, scoring='neg_mean_squared_error', cv=3)\n",
        "  return lr, cv_score"
      ],
      "metadata": {
        "id": "kNhnKLHnGugl"
      },
      "execution_count": 30,
      "outputs": []
    },
    {
      "cell_type": "markdown",
      "source": [
        "##Decision tree :"
      ],
      "metadata": {
        "id": "pPdf_94QHAjS"
      }
    },
    {
      "cell_type": "code",
      "source": [
        "from sklearn.tree import DecisionTreeRegressor"
      ],
      "metadata": {
        "id": "qHFgqNp_HXnn"
      },
      "execution_count": 31,
      "outputs": []
    },
    {
      "cell_type": "code",
      "source": [
        "def run_decision_tree(X_train,Y_train):\n",
        "  dt= DecisionTreeRegressor(random_state=42)\n",
        "  tuned_dt = GridSearchCV(estimator=dt, \n",
        "                          param_grid={'max_features': ['auto', 'sqrt', 'log2', 1/3]},\n",
        "                          scoring='neg_mean_squared_error',\n",
        "                          cv=3, \n",
        "                          verbose=3)\n",
        "  tuned_dt.fit(X_train, Y_train)\n",
        "  return tuned_dt"
      ],
      "metadata": {
        "id": "gZ6GtIXSHsUn"
      },
      "execution_count": 32,
      "outputs": []
    },
    {
      "cell_type": "markdown",
      "source": [
        "# Evaluating models on train data: "
      ],
      "metadata": {
        "id": "NWT08QKsMwyk"
      }
    },
    {
      "cell_type": "code",
      "source": [
        "def run_all_models(x, y):\n",
        "  models_dict = {}\n",
        "  models_dict['Random forest'] = run_random_forest(x, y)\n",
        "  models_dict['Linear regression'] = run_linear_regression(x, y)\n",
        "  models_dict['Decision tree'] = run_decision_tree(x, y)\n",
        "  return models_dict"
      ],
      "metadata": {
        "id": "Ife1XXlcCZJ9"
      },
      "execution_count": 33,
      "outputs": []
    },
    {
      "cell_type": "code",
      "source": [
        "import time"
      ],
      "metadata": {
        "id": "-x4Ta9GqZcXk"
      },
      "execution_count": 34,
      "outputs": []
    },
    {
      "cell_type": "code",
      "source": [
        "models_dict = {}"
      ],
      "metadata": {
        "id": "gkIU_PeoatWP"
      },
      "execution_count": 35,
      "outputs": []
    },
    {
      "cell_type": "code",
      "source": [
        "t0 = time.time()\n",
        "models_dict['Random forest'] = run_random_forest(X, Y)\n",
        "print(f'Runtime random forest: {round(time.time()-t0,2)} seconds')"
      ],
      "metadata": {
        "colab": {
          "base_uri": "https://localhost:8080/"
        },
        "id": "S6nbWtyPZQ0O",
        "outputId": "a11e521a-bfe4-4ad9-bc08-7d18fde8fb23"
      },
      "execution_count": 36,
      "outputs": [
        {
          "output_type": "stream",
          "name": "stdout",
          "text": [
            "Fitting 3 folds for each of 4 candidates, totalling 12 fits\n"
          ]
        },
        {
          "output_type": "stream",
          "name": "stderr",
          "text": [
            "/usr/local/lib/python3.7/dist-packages/sklearn/model_selection/_validation.py:680: DataConversionWarning: A column-vector y was passed when a 1d array was expected. Please change the shape of y to (n_samples,), for example using ravel().\n",
            "  estimator.fit(X_train, y_train, **fit_params)\n"
          ]
        },
        {
          "output_type": "stream",
          "name": "stdout",
          "text": [
            "[CV 1/3] END .............max_features=auto;, score=-3511.680 total time=   7.9s\n"
          ]
        },
        {
          "output_type": "stream",
          "name": "stderr",
          "text": [
            "/usr/local/lib/python3.7/dist-packages/sklearn/model_selection/_validation.py:680: DataConversionWarning: A column-vector y was passed when a 1d array was expected. Please change the shape of y to (n_samples,), for example using ravel().\n",
            "  estimator.fit(X_train, y_train, **fit_params)\n"
          ]
        },
        {
          "output_type": "stream",
          "name": "stdout",
          "text": [
            "[CV 2/3] END .............max_features=auto;, score=-3385.850 total time=  10.6s\n"
          ]
        },
        {
          "output_type": "stream",
          "name": "stderr",
          "text": [
            "/usr/local/lib/python3.7/dist-packages/sklearn/model_selection/_validation.py:680: DataConversionWarning: A column-vector y was passed when a 1d array was expected. Please change the shape of y to (n_samples,), for example using ravel().\n",
            "  estimator.fit(X_train, y_train, **fit_params)\n"
          ]
        },
        {
          "output_type": "stream",
          "name": "stdout",
          "text": [
            "[CV 3/3] END .............max_features=auto;, score=-3201.206 total time=   6.6s\n"
          ]
        },
        {
          "output_type": "stream",
          "name": "stderr",
          "text": [
            "/usr/local/lib/python3.7/dist-packages/sklearn/model_selection/_validation.py:680: DataConversionWarning: A column-vector y was passed when a 1d array was expected. Please change the shape of y to (n_samples,), for example using ravel().\n",
            "  estimator.fit(X_train, y_train, **fit_params)\n"
          ]
        },
        {
          "output_type": "stream",
          "name": "stdout",
          "text": [
            "[CV 1/3] END .............max_features=sqrt;, score=-5804.393 total time=   1.9s\n"
          ]
        },
        {
          "output_type": "stream",
          "name": "stderr",
          "text": [
            "/usr/local/lib/python3.7/dist-packages/sklearn/model_selection/_validation.py:680: DataConversionWarning: A column-vector y was passed when a 1d array was expected. Please change the shape of y to (n_samples,), for example using ravel().\n",
            "  estimator.fit(X_train, y_train, **fit_params)\n"
          ]
        },
        {
          "output_type": "stream",
          "name": "stdout",
          "text": [
            "[CV 2/3] END .............max_features=sqrt;, score=-6341.628 total time=   1.9s\n"
          ]
        },
        {
          "output_type": "stream",
          "name": "stderr",
          "text": [
            "/usr/local/lib/python3.7/dist-packages/sklearn/model_selection/_validation.py:680: DataConversionWarning: A column-vector y was passed when a 1d array was expected. Please change the shape of y to (n_samples,), for example using ravel().\n",
            "  estimator.fit(X_train, y_train, **fit_params)\n"
          ]
        },
        {
          "output_type": "stream",
          "name": "stdout",
          "text": [
            "[CV 3/3] END .............max_features=sqrt;, score=-6395.319 total time=   1.9s\n"
          ]
        },
        {
          "output_type": "stream",
          "name": "stderr",
          "text": [
            "/usr/local/lib/python3.7/dist-packages/sklearn/model_selection/_validation.py:680: DataConversionWarning: A column-vector y was passed when a 1d array was expected. Please change the shape of y to (n_samples,), for example using ravel().\n",
            "  estimator.fit(X_train, y_train, **fit_params)\n"
          ]
        },
        {
          "output_type": "stream",
          "name": "stdout",
          "text": [
            "[CV 1/3] END .............max_features=log2;, score=-5804.393 total time=   1.9s\n"
          ]
        },
        {
          "output_type": "stream",
          "name": "stderr",
          "text": [
            "/usr/local/lib/python3.7/dist-packages/sklearn/model_selection/_validation.py:680: DataConversionWarning: A column-vector y was passed when a 1d array was expected. Please change the shape of y to (n_samples,), for example using ravel().\n",
            "  estimator.fit(X_train, y_train, **fit_params)\n"
          ]
        },
        {
          "output_type": "stream",
          "name": "stdout",
          "text": [
            "[CV 2/3] END .............max_features=log2;, score=-6341.628 total time=   1.9s\n"
          ]
        },
        {
          "output_type": "stream",
          "name": "stderr",
          "text": [
            "/usr/local/lib/python3.7/dist-packages/sklearn/model_selection/_validation.py:680: DataConversionWarning: A column-vector y was passed when a 1d array was expected. Please change the shape of y to (n_samples,), for example using ravel().\n",
            "  estimator.fit(X_train, y_train, **fit_params)\n"
          ]
        },
        {
          "output_type": "stream",
          "name": "stdout",
          "text": [
            "[CV 3/3] END .............max_features=log2;, score=-6395.319 total time=   1.9s\n"
          ]
        },
        {
          "output_type": "stream",
          "name": "stderr",
          "text": [
            "/usr/local/lib/python3.7/dist-packages/sklearn/model_selection/_validation.py:680: DataConversionWarning: A column-vector y was passed when a 1d array was expected. Please change the shape of y to (n_samples,), for example using ravel().\n",
            "  estimator.fit(X_train, y_train, **fit_params)\n"
          ]
        },
        {
          "output_type": "stream",
          "name": "stdout",
          "text": [
            "[CV 1/3] END max_features=0.3333333333333333;, score=-5273.575 total time=   2.2s\n"
          ]
        },
        {
          "output_type": "stream",
          "name": "stderr",
          "text": [
            "/usr/local/lib/python3.7/dist-packages/sklearn/model_selection/_validation.py:680: DataConversionWarning: A column-vector y was passed when a 1d array was expected. Please change the shape of y to (n_samples,), for example using ravel().\n",
            "  estimator.fit(X_train, y_train, **fit_params)\n"
          ]
        },
        {
          "output_type": "stream",
          "name": "stdout",
          "text": [
            "[CV 2/3] END max_features=0.3333333333333333;, score=-5640.553 total time=   2.2s\n"
          ]
        },
        {
          "output_type": "stream",
          "name": "stderr",
          "text": [
            "/usr/local/lib/python3.7/dist-packages/sklearn/model_selection/_validation.py:680: DataConversionWarning: A column-vector y was passed when a 1d array was expected. Please change the shape of y to (n_samples,), for example using ravel().\n",
            "  estimator.fit(X_train, y_train, **fit_params)\n"
          ]
        },
        {
          "output_type": "stream",
          "name": "stdout",
          "text": [
            "[CV 3/3] END max_features=0.3333333333333333;, score=-5714.353 total time=   2.2s\n"
          ]
        },
        {
          "output_type": "stream",
          "name": "stderr",
          "text": [
            "/usr/local/lib/python3.7/dist-packages/sklearn/model_selection/_search.py:926: DataConversionWarning: A column-vector y was passed when a 1d array was expected. Please change the shape of y to (n_samples,), for example using ravel().\n",
            "  self.best_estimator_.fit(X, y, **fit_params)\n"
          ]
        },
        {
          "output_type": "stream",
          "name": "stdout",
          "text": [
            "Runtime random forest: 50.75 seconds\n"
          ]
        }
      ]
    },
    {
      "cell_type": "code",
      "source": [
        "t0 = time.time()\n",
        "models_dict['Linear regression'] = run_linear_regression(X, Y)\n",
        "print(f'Runtime linear regression: {round(time.time()-t0,2)} seconds')"
      ],
      "metadata": {
        "colab": {
          "base_uri": "https://localhost:8080/"
        },
        "id": "zbgV2bjYZTy3",
        "outputId": "063e678c-fb64-47e8-babe-21ac59611b6c"
      },
      "execution_count": 37,
      "outputs": [
        {
          "output_type": "stream",
          "name": "stdout",
          "text": [
            "Runtime linear regression: 0.04 seconds\n"
          ]
        }
      ]
    },
    {
      "cell_type": "code",
      "source": [
        "t0 = time.time()\n",
        "models_dict['Decision tree'] = run_decision_tree(X,Y)\n",
        "print(f'Runtime Decision tree: {round(time.time()-t0,2)} seconds')"
      ],
      "metadata": {
        "colab": {
          "base_uri": "https://localhost:8080/"
        },
        "id": "JB15pzYpZW50",
        "outputId": "f47af573-47db-4861-e950-c1f4e525f4d8"
      },
      "execution_count": 38,
      "outputs": [
        {
          "output_type": "stream",
          "name": "stdout",
          "text": [
            "Fitting 3 folds for each of 4 candidates, totalling 12 fits\n",
            "[CV 1/3] END .............max_features=auto;, score=-6100.539 total time=   0.1s\n",
            "[CV 2/3] END .............max_features=auto;, score=-6315.865 total time=   0.1s\n",
            "[CV 3/3] END .............max_features=auto;, score=-6512.233 total time=   0.0s\n",
            "[CV 1/3] END ............max_features=sqrt;, score=-12864.708 total time=   0.0s\n",
            "[CV 2/3] END ............max_features=sqrt;, score=-16733.771 total time=   0.0s\n",
            "[CV 3/3] END ............max_features=sqrt;, score=-14717.220 total time=   0.0s\n",
            "[CV 1/3] END ............max_features=log2;, score=-12864.708 total time=   0.0s\n",
            "[CV 2/3] END ............max_features=log2;, score=-16733.771 total time=   0.0s\n",
            "[CV 3/3] END ............max_features=log2;, score=-14717.220 total time=   0.0s\n",
            "[CV 1/3] END max_features=0.3333333333333333;, score=-14606.897 total time=   0.0s\n",
            "[CV 2/3] END max_features=0.3333333333333333;, score=-15063.080 total time=   0.0s\n",
            "[CV 3/3] END max_features=0.3333333333333333;, score=-10085.752 total time=   0.0s\n",
            "Runtime Decision tree: 0.44 seconds\n"
          ]
        }
      ]
    },
    {
      "cell_type": "code",
      "source": [
        "models"
      ],
      "metadata": {
        "colab": {
          "base_uri": "https://localhost:8080/"
        },
        "id": "ZhzcDpb5OIiD",
        "outputId": "44d9f461-fb2b-4f55-cd13-3ad860a571a3"
      },
      "execution_count": 39,
      "outputs": [
        {
          "output_type": "execute_result",
          "data": {
            "text/plain": [
              "{'Random forest': None, 'Linear regression': None, 'Decision tree': None}"
            ]
          },
          "metadata": {},
          "execution_count": 39
        }
      ]
    },
    {
      "cell_type": "code",
      "source": [
        "cv_scores = {}\n",
        "cv_scores['Random forest'] = np.sqrt(abs(models_dict['Random forest'].best_score_))\n",
        "cv_scores['Linear regression'] = np.sqrt(abs(models_dict['Linear regression'][1].mean()))\n",
        "cv_scores['Decision tree'] = np.sqrt(abs(models_dict['Decision tree'].best_score_))\n",
        "cv_scores"
      ],
      "metadata": {
        "colab": {
          "base_uri": "https://localhost:8080/"
        },
        "id": "mTLU88GQOJfy",
        "outputId": "c72337f7-8adc-4548-e660-87865e5f0a03"
      },
      "execution_count": 40,
      "outputs": [
        {
          "output_type": "execute_result",
          "data": {
            "text/plain": [
              "{'Random forest': 58.01935425642702,\n",
              " 'Linear regression': 121.98597453860837,\n",
              " 'Decision tree': 79.43264953199966}"
            ]
          },
          "metadata": {},
          "execution_count": 40
        }
      ]
    },
    {
      "cell_type": "code",
      "source": [
        "sns.set()\n",
        "cv_scores_df = pd.DataFrame.from_dict(cv_scores, orient='index')\n",
        "cv_scores_df.plot.bar(rot=45, legend=False)"
      ],
      "metadata": {
        "colab": {
          "base_uri": "https://localhost:8080/",
          "height": 350
        },
        "id": "2k-Q5icePBHh",
        "outputId": "2def0447-f4e4-42e8-cbac-f923d7aaf158"
      },
      "execution_count": 41,
      "outputs": [
        {
          "output_type": "execute_result",
          "data": {
            "text/plain": [
              "<matplotlib.axes._subplots.AxesSubplot at 0x7fafc1638210>"
            ]
          },
          "metadata": {},
          "execution_count": 41
        },
        {
          "output_type": "display_data",
          "data": {
            "text/plain": [
              "<Figure size 432x288 with 1 Axes>"
            ],
            "image/png": "[encoded data removed]"
          },
          "metadata": {}
        }
      ]
    },
    {
      "cell_type": "markdown",
      "source": [
        "#Evaluating models on test data : "
      ],
      "metadata": {
        "id": "KQSIs1whPGgU"
      }
    },
    {
      "cell_type": "code",
      "source": [
        "from sklearn.metrics import mean_squared_error\n",
        "\n",
        "def evaluate_single_model(x, y, model):\n",
        "  y_pred = model.predict(x)\n",
        "  return np.sqrt(mean_squared_error(y, y_pred))"
      ],
      "metadata": {
        "id": "9cjVnEPscMLm"
      },
      "execution_count": 42,
      "outputs": []
    },
    {
      "cell_type": "code",
      "source": [
        "trained_models_dict = {}\n",
        "trained_models_dict['Random forest'] = models_dict['Random forest'].best_estimator_\n",
        "trained_models_dict['Linear regression'] = models_dict['Linear regression'][0]\n",
        "trained_models_dict['Decision tree'] = models_dict['Decision tree'].best_estimator_\n",
        "trained_models_dict"
      ],
      "metadata": {
        "colab": {
          "base_uri": "https://localhost:8080/"
        },
        "id": "ZN6ZniC9PLG2",
        "outputId": "83c3a569-4141-4eeb-fb25-387c1cb4dff1"
      },
      "execution_count": 43,
      "outputs": [
        {
          "output_type": "execute_result",
          "data": {
            "text/plain": [
              "{'Random forest': RandomForestRegressor(n_estimators=200, random_state=42),\n",
              " 'Linear regression': LinearRegression(),\n",
              " 'Decision tree': DecisionTreeRegressor(max_features='auto', random_state=42)}"
            ]
          },
          "metadata": {},
          "execution_count": 43
        }
      ]
    },
    {
      "cell_type": "code",
      "source": [
        "def evaluate_all_models(x, y, models_dict):\n",
        "  test_set_scores = {}\n",
        "  for k, v in models_dict.items():\n",
        "    test_set_scores[k] = evaluate_single_model(x, y, v)\n",
        "  return test_set_scores"
      ],
      "metadata": {
        "id": "vnFsUtMPX3w8"
      },
      "execution_count": 44,
      "outputs": []
    },
    {
      "cell_type": "markdown",
      "source": [
        "##Preparing the test data : "
      ],
      "metadata": {
        "id": "_I767DKgYHTR"
      }
    },
    {
      "cell_type": "code",
      "source": [
        "test = pd.read_csv('/content/AdvancedMLDLCourse/Assignments/Assignment I/test.csv')\n"
      ],
      "metadata": {
        "id": "O6YLrVlmYze2"
      },
      "execution_count": 45,
      "outputs": []
    },
    {
      "cell_type": "code",
      "source": [
        "X_test = test.drop(['count'], axis=1)\n",
        "Y_test = test[['count']]"
      ],
      "metadata": {
        "id": "zSeERQRuZAbP"
      },
      "execution_count": 46,
      "outputs": []
    },
    {
      "cell_type": "code",
      "source": [
        "#Pipeline :\n",
        "def test_preparation(X_test):\n",
        "  X_test = delete_corr_features(X_test)\n",
        "  X_test['datetime'] = pd.to_datetime(X_test['datetime'])\n",
        "  X_test = create_new_date_features(X_test)\n",
        "  X_test = create_new_weather_feature(X_test)\n",
        "  X_test = drop_datetime(X_test)\n",
        "  return X_test"
      ],
      "metadata": {
        "id": "3Nt4AxJrZRwn"
      },
      "execution_count": 47,
      "outputs": []
    },
    {
      "cell_type": "code",
      "source": [
        "X_test = test_preparation(X_test)"
      ],
      "metadata": {
        "id": "dCfLZ1gEay1M"
      },
      "execution_count": 48,
      "outputs": []
    },
    {
      "cell_type": "markdown",
      "source": [
        "##Running models on test data : "
      ],
      "metadata": {
        "id": "zhzJ_cSJZKCW"
      }
    },
    {
      "cell_type": "code",
      "source": [
        "test_set_scores = evaluate_all_models(X_test, Y_test, trained_models_dict)\n",
        "test_set_scores"
      ],
      "metadata": {
        "colab": {
          "base_uri": "https://localhost:8080/"
        },
        "id": "sBSw5mFEYGJQ",
        "outputId": "e54403cf-b84c-4bd1-868c-671f9e4dc0d8"
      },
      "execution_count": 49,
      "outputs": [
        {
          "output_type": "execute_result",
          "data": {
            "text/plain": [
              "{'Random forest': 48.48679083786593,\n",
              " 'Linear regression': 118.38420001971105,\n",
              " 'Decision tree': 71.94482639880883}"
            ]
          },
          "metadata": {},
          "execution_count": 49
        }
      ]
    },
    {
      "cell_type": "markdown",
      "source": [
        "#Overall comparison : \n"
      ],
      "metadata": {
        "id": "fadmJ83YfE28"
      }
    },
    {
      "cell_type": "markdown",
      "source": [
        "Let's combine the test and train results:\n",
        "\n"
      ],
      "metadata": {
        "id": "jPhzY_7DfMGO"
      }
    },
    {
      "cell_type": "code",
      "source": [
        "combined_dict = {k: [np.abs(v), test_set_scores[k]] for k, v in cv_scores.items()}\n",
        "combined_dict"
      ],
      "metadata": {
        "colab": {
          "base_uri": "https://localhost:8080/"
        },
        "id": "g1fiKuNjfHae",
        "outputId": "66b9e174-98ee-4a62-fe71-7ae8a9f062a4"
      },
      "execution_count": 50,
      "outputs": [
        {
          "output_type": "execute_result",
          "data": {
            "text/plain": [
              "{'Random forest': [58.01935425642702, 48.48679083786593],\n",
              " 'Linear regression': [121.98597453860837, 118.38420001971105],\n",
              " 'Decision tree': [79.43264953199966, 71.94482639880883]}"
            ]
          },
          "metadata": {},
          "execution_count": 50
        }
      ]
    },
    {
      "cell_type": "markdown",
      "source": [
        "Compare the test results to the train results : "
      ],
      "metadata": {
        "id": "UHGa535Qfaqy"
      }
    },
    {
      "cell_type": "code",
      "source": [
        "scores_df = pd.DataFrame.from_dict(combined_dict, orient='index', columns=['CV score', 'Test set score'])\n",
        "scores_df"
      ],
      "metadata": {
        "colab": {
          "base_uri": "https://localhost:8080/",
          "height": 143
        },
        "id": "dFnA8YaLfaOq",
        "outputId": "16d84ef8-2bb1-4ffa-9461-a1c93886d55f"
      },
      "execution_count": 51,
      "outputs": [
        {
          "output_type": "execute_result",
          "data": {
            "text/plain": [
              "                     CV score  Test set score\n",
              "Random forest       58.019354       48.486791\n",
              "Linear regression  121.985975      118.384200\n",
              "Decision tree       79.432650       71.944826"
            ],
            "text/html": [
              "\n",
              "  <div id=\"df-b6e90312-130a-4ce1-988e-f55824d3305e\">\n",
              "    <div class=\"colab-df-container\">\n",
              "      <div>\n",
              "<style scoped>\n",
              "    .dataframe tbody tr th:only-of-type {\n",
              "        vertical-align: middle;\n",
              "    }\n",
              "\n",
              "    .dataframe tbody tr th {\n",
              "        vertical-align: top;\n",
              "    }\n",
              "\n",
              "    .dataframe thead th {\n",
              "        text-align: right;\n",
              "    }\n",
              "</style>\n",
              "<table border=\"1\" class=\"dataframe\">\n",
              "  <thead>\n",
              "    <tr style=\"text-align: right;\">\n",
              "      <th></th>\n",
              "      <th>CV score</th>\n",
              "      <th>Test set score</th>\n",
              "    </tr>\n",
              "  </thead>\n",
              "  <tbody>\n",
              "    <tr>\n",
              "      <th>Random forest</th>\n",
              "      <td>58.019354</td>\n",
              "      <td>48.486791</td>\n",
              "    </tr>\n",
              "    <tr>\n",
              "      <th>Linear regression</th>\n",
              "      <td>121.985975</td>\n",
              "      <td>118.384200</td>\n",
              "    </tr>\n",
              "    <tr>\n",
              "      <th>Decision tree</th>\n",
              "      <td>79.432650</td>\n",
              "      <td>71.944826</td>\n",
              "    </tr>\n",
              "  </tbody>\n",
              "</table>\n",
              "</div>\n",
              "      <button class=\"colab-df-convert\" onclick=\"convertToInteractive('df-b6e90312-130a-4ce1-988e-f55824d3305e')\"\n",
              "              title=\"Convert this dataframe to an interactive table.\"\n",
              "              style=\"display:none;\">\n",
              "        \n",
              "  <svg xmlns=\"http://www.w3.org/2000/svg\" height=\"24px\"viewBox=\"0 0 24 24\"\n",
              "       width=\"24px\">\n",
              "    <path d=\"M0 0h24v24H0V0z\" fill=\"none\"/>\n",
              "    <path d=\"M18.56 5.44l.94 2.06.94-2.06 2.06-.94-2.06-.94-.94-2.06-.94 2.06-2.06.94zm-11 1L8.5 8.5l.94-2.06 2.06-.94-2.06-.94L8.5 2.5l-.94 2.06-2.06.94zm10 10l.94 2.06.94-2.06 2.06-.94-2.06-.94-.94-2.06-.94 2.06-2.06.94z\"/><path d=\"M17.41 7.96l-1.37-1.37c-.4-.4-.92-.59-1.43-.59-.52 0-1.04.2-1.43.59L10.3 9.45l-7.72 7.72c-.78.78-.78 2.05 0 2.83L4 21.41c.39.39.9.59 1.41.59.51 0 1.02-.2 1.41-.59l7.78-7.78 2.81-2.81c.8-.78.8-2.07 0-2.86zM5.41 20L4 18.59l7.72-7.72 1.47 1.35L5.41 20z\"/>\n",
              "  </svg>\n",
              "      </button>\n",
              "      \n",
              "  <style>\n",
              "    .colab-df-container {\n",
              "      display:flex;\n",
              "      flex-wrap:wrap;\n",
              "      gap: 12px;\n",
              "    }\n",
              "\n",
              "    .colab-df-convert {\n",
              "      background-color: #E8F0FE;\n",
              "      border: none;\n",
              "      border-radius: 50%;\n",
              "      cursor: pointer;\n",
              "      display: none;\n",
              "      fill: #1967D2;\n",
              "      height: 32px;\n",
              "      padding: 0 0 0 0;\n",
              "      width: 32px;\n",
              "    }\n",
              "\n",
              "    .colab-df-convert:hover {\n",
              "      background-color: #E2EBFA;\n",
              "      box-shadow: 0px 1px 2px rgba(60, 64, 67, 0.3), 0px 1px 3px 1px rgba(60, 64, 67, 0.15);\n",
              "      fill: #174EA6;\n",
              "    }\n",
              "\n",
              "    [theme=dark] .colab-df-convert {\n",
              "      background-color: #3B4455;\n",
              "      fill: #D2E3FC;\n",
              "    }\n",
              "\n",
              "    [theme=dark] .colab-df-convert:hover {\n",
              "      background-color: #434B5C;\n",
              "      box-shadow: 0px 1px 3px 1px rgba(0, 0, 0, 0.15);\n",
              "      filter: drop-shadow(0px 1px 2px rgba(0, 0, 0, 0.3));\n",
              "      fill: #FFFFFF;\n",
              "    }\n",
              "  </style>\n",
              "\n",
              "      <script>\n",
              "        const buttonEl =\n",
              "          document.querySelector('#df-b6e90312-130a-4ce1-988e-f55824d3305e button.colab-df-convert');\n",
              "        buttonEl.style.display =\n",
              "          google.colab.kernel.accessAllowed ? 'block' : 'none';\n",
              "\n",
              "        async function convertToInteractive(key) {\n",
              "          const element = document.querySelector('#df-b6e90312-130a-4ce1-988e-f55824d3305e');\n",
              "          const dataTable =\n",
              "            await google.colab.kernel.invokeFunction('convertToInteractive',\n",
              "                                                     [key], {});\n",
              "          if (!dataTable) return;\n",
              "\n",
              "          const docLinkHtml = 'Like what you see? Visit the ' +\n",
              "            '<a target=\"_blank\" href=https://colab.research.google.com/notebooks/data_table.ipynb>data table notebook</a>'\n",
              "            + ' to learn more about interactive tables.';\n",
              "          element.innerHTML = '';\n",
              "          dataTable['output_type'] = 'display_data';\n",
              "          await google.colab.output.renderOutput(dataTable, element);\n",
              "          const docLink = document.createElement('div');\n",
              "          docLink.innerHTML = docLinkHtml;\n",
              "          element.appendChild(docLink);\n",
              "        }\n",
              "      </script>\n",
              "    </div>\n",
              "  </div>\n",
              "  "
            ]
          },
          "metadata": {},
          "execution_count": 51
        }
      ]
    },
    {
      "cell_type": "markdown",
      "source": [
        "#Feature importance : "
      ],
      "metadata": {
        "id": "ext0Bg_ynFb7"
      }
    },
    {
      "cell_type": "code",
      "source": [
        "feature_importance_dict = {}"
      ],
      "metadata": {
        "id": "aDYOYHvlnHqY"
      },
      "execution_count": 52,
      "outputs": []
    },
    {
      "cell_type": "markdown",
      "source": [
        "While plotting the feature importance, we will treat the tree based methods and the classic regression methods differently"
      ],
      "metadata": {
        "id": "SJFvv_UenJJQ"
      }
    },
    {
      "cell_type": "markdown",
      "source": [
        "## Tree based methods : "
      ],
      "metadata": {
        "id": "wjWaHa2kqQ3N"
      }
    },
    {
      "cell_type": "code",
      "source": [
        "def find_tree_feature_importance(model, columns):\n",
        "  importance = model.feature_importances_\n",
        "  importance *= 100 / np.max(importance)  # Normalize\n",
        "  importance = pd.DataFrame(importance, index=columns, columns=[\"Importance\"])\n",
        "  importance = importance.sort_values(by=['Importance'], ascending=False)\n",
        "  return importance"
      ],
      "metadata": {
        "id": "ER50ER-zm-ED"
      },
      "execution_count": 53,
      "outputs": []
    },
    {
      "cell_type": "code",
      "source": [
        "feature_importance_dict['Random forest'] = find_tree_feature_importance(trained_models_dict['Random forest'], X.columns)\n",
        "feature_importance_dict['Decision tree'] = find_tree_feature_importance(trained_models_dict['Decision tree'], X.columns)"
      ],
      "metadata": {
        "id": "JC0HY-Jpnfln"
      },
      "execution_count": 54,
      "outputs": []
    },
    {
      "cell_type": "markdown",
      "source": [
        "##Classical regression methods:\n"
      ],
      "metadata": {
        "id": "pqkrHA2EqLHQ"
      }
    },
    {
      "cell_type": "code",
      "source": [
        "def find_normalized_lr_feature_importance(model, x_train):\n",
        "  coefficients = {x_train.columns[i]: np.abs(model.coef_[i]) for i in range(len(x_train.columns))}\n",
        "  coefficients_df = pd.DataFrame.from_dict(coefficients, orient='index', columns=['Importance'])\n",
        "  coefficients_df['Importance'] *=  x_train.std()\n",
        "  coefficients_df['Importance'] *= 100 / coefficients_df['Importance'].max()\n",
        "  importance = coefficients_df.sort_values(by=['Importance'], ascending=False)\n",
        "  return importance"
      ],
      "metadata": {
        "id": "Uye_psW9qVq_"
      },
      "execution_count": 55,
      "outputs": []
    },
    {
      "cell_type": "code",
      "source": [
        "feature_importance_dict['Linear regression'] = find_normalized_lr_feature_importance(trained_models_dict['Linear regression'], X)\n"
      ],
      "metadata": {
        "id": "EYD4Mwss1dvv"
      },
      "execution_count": 56,
      "outputs": []
    },
    {
      "cell_type": "markdown",
      "source": [
        "#Compare feature importance : "
      ],
      "metadata": {
        "id": "8PMFb8Cr2V-v"
      }
    },
    {
      "cell_type": "code",
      "source": [
        "sns.set()\n",
        "\n",
        "fig, axes = plt.subplots(3, 1, figsize=(10, 15))\n",
        "feature_importance_dict['Random forest'].plot(kind='barh', ax=axes[0], legend=False, title='Random forest')\n",
        "feature_importance_dict['Linear regression'].plot(kind='barh', ax=axes[1], legend=False, title='Linear regression')\n",
        "feature_importance_dict['Decision tree'].plot(kind='barh', ax=axes[2], legend=False, title='Decision tree')"
      ],
      "metadata": {
        "id": "dARd0o8V2hsu",
        "colab": {
          "base_uri": "https://localhost:8080/",
          "height": 899
        },
        "outputId": "9b09de0e-c1a3-4d9d-9635-d9009ef30d79"
      },
      "execution_count": 57,
      "outputs": [
        {
          "output_type": "execute_result",
          "data": {
            "text/plain": [
              "<matplotlib.axes._subplots.AxesSubplot at 0x7fafc14c8e50>"
            ]
          },
          "metadata": {},
          "execution_count": 57
        },
        {
          "output_type": "display_data",
          "data": {
            "text/plain": [
              "<Figure size 720x1080 with 3 Axes>"
            ],
            "image/png": "[encoded data removed]"
          },
          "metadata": {}
        }
      ]
    },
    {
      "cell_type": "markdown",
      "source": [
        "## Removing weak features:<br>\n",
        "Let's find the 3 weakest features in each model:\n",
        "\n"
      ],
      "metadata": {
        "id": "JqrQd4U240if"
      }
    },
    {
      "cell_type": "code",
      "source": [
        "weak_features_dict = {}\n",
        "for k, v in feature_importance_dict.items():\n",
        "  weak_features_dict[k] = list(v.index.values[-3:])\n",
        "weak_features_dict"
      ],
      "metadata": {
        "id": "OZfcwfOP5EQA",
        "colab": {
          "base_uri": "https://localhost:8080/"
        },
        "outputId": "a3740cd0-717a-4654-cedf-f635faa28df3"
      },
      "execution_count": 58,
      "outputs": [
        {
          "output_type": "execute_result",
          "data": {
            "text/plain": [
              "{'Random forest': ['weather', 'traffic', 'holiday'],\n",
              " 'Decision tree': ['season', 'traffic', 'holiday'],\n",
              " 'Linear regression': ['holiday', 'day', 'traffic']}"
            ]
          },
          "metadata": {},
          "execution_count": 58
        }
      ]
    },
    {
      "cell_type": "markdown",
      "source": [
        "Now we will remove the weak features : "
      ],
      "metadata": {
        "id": "hxuUYhqphbyk"
      }
    },
    {
      "cell_type": "code",
      "source": [
        "x_data_dict = {}\n",
        "for k, v in weak_features_dict.items():\n",
        "  x_data_dict[k] = (X.drop(v, axis=1), X_test.drop(v, axis=1))"
      ],
      "metadata": {
        "id": "qGyjuuJihgXA"
      },
      "execution_count": 59,
      "outputs": []
    },
    {
      "cell_type": "markdown",
      "source": [
        "We need to modify \"run all models\" function to fit different datasets"
      ],
      "metadata": {
        "id": "BpZz4kS7lmx6"
      }
    },
    {
      "cell_type": "code",
      "source": [
        "def run_all_models(x_dict, y):\n",
        "  models_dict = {}\n",
        "  models_dict['Random forest'] = run_random_forest(x_dict['Random forest'][0], y)\n",
        "  models_dict['Linear regression'] = run_linear_regression(x_dict['Linear regression'][0], y)\n",
        "  models_dict['Decision tree'] = run_decision_tree(x_dict['Decision tree'][0], y)\n",
        "  return models_dict"
      ],
      "metadata": {
        "id": "rl5-AxqslwPH"
      },
      "execution_count": 60,
      "outputs": []
    },
    {
      "cell_type": "markdown",
      "source": [
        "## Let's watch some models run:\n",
        "*Run the models after removing features :*"
      ],
      "metadata": {
        "id": "awNSjmRgmPch"
      }
    },
    {
      "cell_type": "code",
      "source": [
        "from IPython.display import Image\n",
        "Image(url='https://media.tenor.com/9Mb6szFQBtMAAAAd/model-falling.gif')"
      ],
      "metadata": {
        "colab": {
          "base_uri": "https://localhost:8080/",
          "height": 291
        },
        "id": "Slk4xt2k6XBD",
        "outputId": "0730706f-e9df-4b8d-b897-3004c1b4f5ae"
      },
      "execution_count": 61,
      "outputs": [
        {
          "output_type": "execute_result",
          "data": {
            "text/html": [
              "<img src=\"https://media.tenor.com/9Mb6szFQBtMAAAAd/model-falling.gif\"/>"
            ],
            "text/plain": [
              "<IPython.core.display.Image object>"
            ]
          },
          "metadata": {},
          "execution_count": 61
        }
      ]
    },
    {
      "cell_type": "code",
      "source": [
        "models = run_all_models(x_data_dict, Y.values.ravel())\n",
        "models"
      ],
      "metadata": {
        "id": "h8zj9zI0mAX7",
        "colab": {
          "base_uri": "https://localhost:8080/"
        },
        "outputId": "b7108d2d-b4f0-4eac-e522-8228dee4d9dd"
      },
      "execution_count": 62,
      "outputs": [
        {
          "output_type": "stream",
          "name": "stdout",
          "text": [
            "Fitting 3 folds for each of 4 candidates, totalling 12 fits\n",
            "[CV 1/3] END .............max_features=auto;, score=-3634.901 total time=   4.8s\n",
            "[CV 2/3] END .............max_features=auto;, score=-3491.803 total time=   4.7s\n",
            "[CV 3/3] END .............max_features=auto;, score=-3326.494 total time=   4.8s\n",
            "[CV 1/3] END .............max_features=sqrt;, score=-6018.134 total time=   1.7s\n",
            "[CV 2/3] END .............max_features=sqrt;, score=-6604.150 total time=   1.7s\n",
            "[CV 3/3] END .............max_features=sqrt;, score=-6620.665 total time=   1.7s\n",
            "[CV 1/3] END .............max_features=log2;, score=-6018.134 total time=   1.7s\n",
            "[CV 2/3] END .............max_features=log2;, score=-6604.150 total time=   1.7s\n",
            "[CV 3/3] END .............max_features=log2;, score=-6620.665 total time=   1.7s\n",
            "[CV 1/3] END max_features=0.3333333333333333;, score=-5420.906 total time=   2.0s\n",
            "[CV 2/3] END max_features=0.3333333333333333;, score=-5748.889 total time=   2.0s\n",
            "[CV 3/3] END max_features=0.3333333333333333;, score=-5869.026 total time=   2.0s\n",
            "Fitting 3 folds for each of 4 candidates, totalling 12 fits\n",
            "[CV 1/3] END .............max_features=auto;, score=-6217.157 total time=   0.1s\n",
            "[CV 2/3] END .............max_features=auto;, score=-5661.719 total time=   0.1s\n",
            "[CV 3/3] END .............max_features=auto;, score=-6679.957 total time=   0.0s\n",
            "[CV 1/3] END ............max_features=sqrt;, score=-18004.373 total time=   0.0s\n",
            "[CV 2/3] END ............max_features=sqrt;, score=-15700.158 total time=   0.0s\n",
            "[CV 3/3] END ............max_features=sqrt;, score=-16286.650 total time=   0.0s\n",
            "[CV 1/3] END ............max_features=log2;, score=-18004.373 total time=   0.0s\n",
            "[CV 2/3] END ............max_features=log2;, score=-15700.158 total time=   0.0s\n",
            "[CV 3/3] END ............max_features=log2;, score=-16286.650 total time=   0.0s\n",
            "[CV 1/3] END max_features=0.3333333333333333;, score=-16722.481 total time=   0.0s\n",
            "[CV 2/3] END max_features=0.3333333333333333;, score=-17933.661 total time=   0.0s\n",
            "[CV 3/3] END max_features=0.3333333333333333;, score=-15682.313 total time=   0.0s\n"
          ]
        },
        {
          "output_type": "execute_result",
          "data": {
            "text/plain": [
              "{'Random forest': GridSearchCV(cv=3,\n",
              "              estimator=RandomForestRegressor(n_estimators=200, random_state=42),\n",
              "              param_grid={'max_features': ['auto', 'sqrt', 'log2',\n",
              "                                           0.3333333333333333]},\n",
              "              scoring='neg_mean_squared_error', verbose=3),\n",
              " 'Linear regression': (LinearRegression(),\n",
              "  array([-14241.94370665, -15157.7881094 , -15204.86449517])),\n",
              " 'Decision tree': GridSearchCV(cv=3, estimator=DecisionTreeRegressor(random_state=42),\n",
              "              param_grid={'max_features': ['auto', 'sqrt', 'log2',\n",
              "                                           0.3333333333333333]},\n",
              "              scoring='neg_mean_squared_error', verbose=3)}"
            ]
          },
          "metadata": {},
          "execution_count": 62
        }
      ]
    },
    {
      "cell_type": "code",
      "source": [
        "cv_scores = {}\n",
        "cv_scores['Random forest'] = np.sqrt(abs(models_dict['Random forest'].best_score_))\n",
        "cv_scores['Linear regression'] = np.sqrt(abs(models_dict['Linear regression'][1].mean()))\n",
        "cv_scores['Decision tree'] = np.sqrt(abs(models_dict['Decision tree'].best_score_))\n",
        "cv_scores"
      ],
      "metadata": {
        "id": "1hYpph3emiHD",
        "colab": {
          "base_uri": "https://localhost:8080/"
        },
        "outputId": "6c65ccd5-3b71-4843-effd-fc46e501a090"
      },
      "execution_count": 63,
      "outputs": [
        {
          "output_type": "execute_result",
          "data": {
            "text/plain": [
              "{'Random forest': 58.01935425642702,\n",
              " 'Linear regression': 121.98597453860837,\n",
              " 'Decision tree': 79.43264953199966}"
            ]
          },
          "metadata": {},
          "execution_count": 63
        }
      ]
    },
    {
      "cell_type": "code",
      "source": [
        "trained_models_dict = {}\n",
        "trained_models_dict['Random forest'] = models['Random forest'].best_estimator_\n",
        "trained_models_dict['Linear regression'] = models['Linear regression'][0]\n",
        "trained_models_dict['Decision tree'] = models['Decision tree'].best_estimator_\n",
        "\n",
        "trained_models_dict"
      ],
      "metadata": {
        "id": "btLV3lrjmxhP",
        "colab": {
          "base_uri": "https://localhost:8080/"
        },
        "outputId": "760bab28-c91f-423e-e78b-edd14f8798ac"
      },
      "execution_count": 64,
      "outputs": [
        {
          "output_type": "execute_result",
          "data": {
            "text/plain": [
              "{'Random forest': RandomForestRegressor(n_estimators=200, random_state=42),\n",
              " 'Linear regression': LinearRegression(),\n",
              " 'Decision tree': DecisionTreeRegressor(max_features='auto', random_state=42)}"
            ]
          },
          "metadata": {},
          "execution_count": 64
        }
      ]
    },
    {
      "cell_type": "markdown",
      "source": [
        "Modify evaluate_all_models : "
      ],
      "metadata": {
        "id": "_ZUy_MoEm1-n"
      }
    },
    {
      "cell_type": "code",
      "source": [
        "def evaluate_all_models(x_dict, y, models_dict):\n",
        "  test_set_scores = {}\n",
        "  for k, v in models_dict.items():\n",
        "    test_set_scores[k] = evaluate_single_model(x_dict[k][1], y, v)\n",
        "  return test_set_scores"
      ],
      "metadata": {
        "id": "ZLiRV7ANmyYM"
      },
      "execution_count": 65,
      "outputs": []
    },
    {
      "cell_type": "code",
      "source": [
        "test_set_scores = evaluate_all_models(x_data_dict, Y_test, trained_models_dict)\n",
        "test_set_scores"
      ],
      "metadata": {
        "id": "xwmI-xl-qECV",
        "colab": {
          "base_uri": "https://localhost:8080/"
        },
        "outputId": "9dfcd7da-9f99-4d2d-ab23-3bc922a3bbc6"
      },
      "execution_count": 66,
      "outputs": [
        {
          "output_type": "execute_result",
          "data": {
            "text/plain": [
              "{'Random forest': 50.42959652483455,\n",
              " 'Linear regression': 118.37186321218361,\n",
              " 'Decision tree': 71.10562508815372}"
            ]
          },
          "metadata": {},
          "execution_count": 66
        }
      ]
    },
    {
      "cell_type": "code",
      "source": [
        "combined_dict = {k: [np.abs(v), test_set_scores[k]] for k, v in cv_scores.items()}\n",
        "combined_dict"
      ],
      "metadata": {
        "id": "YeagUOdinDuz",
        "colab": {
          "base_uri": "https://localhost:8080/"
        },
        "outputId": "85cac6ee-4029-49fb-8f1b-43c126de7ffd"
      },
      "execution_count": 67,
      "outputs": [
        {
          "output_type": "execute_result",
          "data": {
            "text/plain": [
              "{'Random forest': [58.01935425642702, 50.42959652483455],\n",
              " 'Linear regression': [121.98597453860837, 118.37186321218361],\n",
              " 'Decision tree': [79.43264953199966, 71.10562508815372]}"
            ]
          },
          "metadata": {},
          "execution_count": 67
        }
      ]
    },
    {
      "cell_type": "markdown",
      "source": [
        "Let's view the new results : "
      ],
      "metadata": {
        "id": "p8nJKWsWnGfn"
      }
    },
    {
      "cell_type": "code",
      "source": [
        "new_scores_df = pd.DataFrame.from_dict(combined_dict, orient='index', columns=['CV score removed features', 'Test set score removed features'])\n",
        "new_scores_df"
      ],
      "metadata": {
        "id": "WVZbuieSnE0E",
        "colab": {
          "base_uri": "https://localhost:8080/",
          "height": 143
        },
        "outputId": "a30a6325-4204-4348-dab6-fd23ecb5fde3"
      },
      "execution_count": 68,
      "outputs": [
        {
          "output_type": "execute_result",
          "data": {
            "text/plain": [
              "                   CV score removed features  Test set score removed features\n",
              "Random forest                      58.019354                        50.429597\n",
              "Linear regression                 121.985975                       118.371863\n",
              "Decision tree                      79.432650                        71.105625"
            ],
            "text/html": [
              "\n",
              "  <div id=\"df-6e8f5535-6f5e-4032-942b-2ddce74ef251\">\n",
              "    <div class=\"colab-df-container\">\n",
              "      <div>\n",
              "<style scoped>\n",
              "    .dataframe tbody tr th:only-of-type {\n",
              "        vertical-align: middle;\n",
              "    }\n",
              "\n",
              "    .dataframe tbody tr th {\n",
              "        vertical-align: top;\n",
              "    }\n",
              "\n",
              "    .dataframe thead th {\n",
              "        text-align: right;\n",
              "    }\n",
              "</style>\n",
              "<table border=\"1\" class=\"dataframe\">\n",
              "  <thead>\n",
              "    <tr style=\"text-align: right;\">\n",
              "      <th></th>\n",
              "      <th>CV score removed features</th>\n",
              "      <th>Test set score removed features</th>\n",
              "    </tr>\n",
              "  </thead>\n",
              "  <tbody>\n",
              "    <tr>\n",
              "      <th>Random forest</th>\n",
              "      <td>58.019354</td>\n",
              "      <td>50.429597</td>\n",
              "    </tr>\n",
              "    <tr>\n",
              "      <th>Linear regression</th>\n",
              "      <td>121.985975</td>\n",
              "      <td>118.371863</td>\n",
              "    </tr>\n",
              "    <tr>\n",
              "      <th>Decision tree</th>\n",
              "      <td>79.432650</td>\n",
              "      <td>71.105625</td>\n",
              "    </tr>\n",
              "  </tbody>\n",
              "</table>\n",
              "</div>\n",
              "      <button class=\"colab-df-convert\" onclick=\"convertToInteractive('df-6e8f5535-6f5e-4032-942b-2ddce74ef251')\"\n",
              "              title=\"Convert this dataframe to an interactive table.\"\n",
              "              style=\"display:none;\">\n",
              "        \n",
              "  <svg xmlns=\"http://www.w3.org/2000/svg\" height=\"24px\"viewBox=\"0 0 24 24\"\n",
              "       width=\"24px\">\n",
              "    <path d=\"M0 0h24v24H0V0z\" fill=\"none\"/>\n",
              "    <path d=\"M18.56 5.44l.94 2.06.94-2.06 2.06-.94-2.06-.94-.94-2.06-.94 2.06-2.06.94zm-11 1L8.5 8.5l.94-2.06 2.06-.94-2.06-.94L8.5 2.5l-.94 2.06-2.06.94zm10 10l.94 2.06.94-2.06 2.06-.94-2.06-.94-.94-2.06-.94 2.06-2.06.94z\"/><path d=\"M17.41 7.96l-1.37-1.37c-.4-.4-.92-.59-1.43-.59-.52 0-1.04.2-1.43.59L10.3 9.45l-7.72 7.72c-.78.78-.78 2.05 0 2.83L4 21.41c.39.39.9.59 1.41.59.51 0 1.02-.2 1.41-.59l7.78-7.78 2.81-2.81c.8-.78.8-2.07 0-2.86zM5.41 20L4 18.59l7.72-7.72 1.47 1.35L5.41 20z\"/>\n",
              "  </svg>\n",
              "      </button>\n",
              "      \n",
              "  <style>\n",
              "    .colab-df-container {\n",
              "      display:flex;\n",
              "      flex-wrap:wrap;\n",
              "      gap: 12px;\n",
              "    }\n",
              "\n",
              "    .colab-df-convert {\n",
              "      background-color: #E8F0FE;\n",
              "      border: none;\n",
              "      border-radius: 50%;\n",
              "      cursor: pointer;\n",
              "      display: none;\n",
              "      fill: #1967D2;\n",
              "      height: 32px;\n",
              "      padding: 0 0 0 0;\n",
              "      width: 32px;\n",
              "    }\n",
              "\n",
              "    .colab-df-convert:hover {\n",
              "      background-color: #E2EBFA;\n",
              "      box-shadow: 0px 1px 2px rgba(60, 64, 67, 0.3), 0px 1px 3px 1px rgba(60, 64, 67, 0.15);\n",
              "      fill: #174EA6;\n",
              "    }\n",
              "\n",
              "    [theme=dark] .colab-df-convert {\n",
              "      background-color: #3B4455;\n",
              "      fill: #D2E3FC;\n",
              "    }\n",
              "\n",
              "    [theme=dark] .colab-df-convert:hover {\n",
              "      background-color: #434B5C;\n",
              "      box-shadow: 0px 1px 3px 1px rgba(0, 0, 0, 0.15);\n",
              "      filter: drop-shadow(0px 1px 2px rgba(0, 0, 0, 0.3));\n",
              "      fill: #FFFFFF;\n",
              "    }\n",
              "  </style>\n",
              "\n",
              "      <script>\n",
              "        const buttonEl =\n",
              "          document.querySelector('#df-6e8f5535-6f5e-4032-942b-2ddce74ef251 button.colab-df-convert');\n",
              "        buttonEl.style.display =\n",
              "          google.colab.kernel.accessAllowed ? 'block' : 'none';\n",
              "\n",
              "        async function convertToInteractive(key) {\n",
              "          const element = document.querySelector('#df-6e8f5535-6f5e-4032-942b-2ddce74ef251');\n",
              "          const dataTable =\n",
              "            await google.colab.kernel.invokeFunction('convertToInteractive',\n",
              "                                                     [key], {});\n",
              "          if (!dataTable) return;\n",
              "\n",
              "          const docLinkHtml = 'Like what you see? Visit the ' +\n",
              "            '<a target=\"_blank\" href=https://colab.research.google.com/notebooks/data_table.ipynb>data table notebook</a>'\n",
              "            + ' to learn more about interactive tables.';\n",
              "          element.innerHTML = '';\n",
              "          dataTable['output_type'] = 'display_data';\n",
              "          await google.colab.output.renderOutput(dataTable, element);\n",
              "          const docLink = document.createElement('div');\n",
              "          docLink.innerHTML = docLinkHtml;\n",
              "          element.appendChild(docLink);\n",
              "        }\n",
              "      </script>\n",
              "    </div>\n",
              "  </div>\n",
              "  "
            ]
          },
          "metadata": {},
          "execution_count": 68
        }
      ]
    },
    {
      "cell_type": "markdown",
      "source": [
        "And combine to one df:"
      ],
      "metadata": {
        "id": "Jzaw0g4On7js"
      }
    },
    {
      "cell_type": "code",
      "source": [
        "combined_df = pd.concat([scores_df, new_scores_df], axis=1, ignore_index=False)\n",
        "combined_df"
      ],
      "metadata": {
        "id": "DGuM2n6Zn9JP",
        "colab": {
          "base_uri": "https://localhost:8080/",
          "height": 143
        },
        "outputId": "61711df9-e461-4603-95d6-469267637df9"
      },
      "execution_count": 69,
      "outputs": [
        {
          "output_type": "execute_result",
          "data": {
            "text/plain": [
              "                     CV score  Test set score  CV score removed features  \\\n",
              "Random forest       58.019354       48.486791                  58.019354   \n",
              "Linear regression  121.985975      118.384200                 121.985975   \n",
              "Decision tree       79.432650       71.944826                  79.432650   \n",
              "\n",
              "                   Test set score removed features  \n",
              "Random forest                            50.429597  \n",
              "Linear regression                       118.371863  \n",
              "Decision tree                            71.105625  "
            ],
            "text/html": [
              "\n",
              "  <div id=\"df-c29f98d4-1f79-447e-ac45-9a501797a84d\">\n",
              "    <div class=\"colab-df-container\">\n",
              "      <div>\n",
              "<style scoped>\n",
              "    .dataframe tbody tr th:only-of-type {\n",
              "        vertical-align: middle;\n",
              "    }\n",
              "\n",
              "    .dataframe tbody tr th {\n",
              "        vertical-align: top;\n",
              "    }\n",
              "\n",
              "    .dataframe thead th {\n",
              "        text-align: right;\n",
              "    }\n",
              "</style>\n",
              "<table border=\"1\" class=\"dataframe\">\n",
              "  <thead>\n",
              "    <tr style=\"text-align: right;\">\n",
              "      <th></th>\n",
              "      <th>CV score</th>\n",
              "      <th>Test set score</th>\n",
              "      <th>CV score removed features</th>\n",
              "      <th>Test set score removed features</th>\n",
              "    </tr>\n",
              "  </thead>\n",
              "  <tbody>\n",
              "    <tr>\n",
              "      <th>Random forest</th>\n",
              "      <td>58.019354</td>\n",
              "      <td>48.486791</td>\n",
              "      <td>58.019354</td>\n",
              "      <td>50.429597</td>\n",
              "    </tr>\n",
              "    <tr>\n",
              "      <th>Linear regression</th>\n",
              "      <td>121.985975</td>\n",
              "      <td>118.384200</td>\n",
              "      <td>121.985975</td>\n",
              "      <td>118.371863</td>\n",
              "    </tr>\n",
              "    <tr>\n",
              "      <th>Decision tree</th>\n",
              "      <td>79.432650</td>\n",
              "      <td>71.944826</td>\n",
              "      <td>79.432650</td>\n",
              "      <td>71.105625</td>\n",
              "    </tr>\n",
              "  </tbody>\n",
              "</table>\n",
              "</div>\n",
              "      <button class=\"colab-df-convert\" onclick=\"convertToInteractive('df-c29f98d4-1f79-447e-ac45-9a501797a84d')\"\n",
              "              title=\"Convert this dataframe to an interactive table.\"\n",
              "              style=\"display:none;\">\n",
              "        \n",
              "  <svg xmlns=\"http://www.w3.org/2000/svg\" height=\"24px\"viewBox=\"0 0 24 24\"\n",
              "       width=\"24px\">\n",
              "    <path d=\"M0 0h24v24H0V0z\" fill=\"none\"/>\n",
              "    <path d=\"M18.56 5.44l.94 2.06.94-2.06 2.06-.94-2.06-.94-.94-2.06-.94 2.06-2.06.94zm-11 1L8.5 8.5l.94-2.06 2.06-.94-2.06-.94L8.5 2.5l-.94 2.06-2.06.94zm10 10l.94 2.06.94-2.06 2.06-.94-2.06-.94-.94-2.06-.94 2.06-2.06.94z\"/><path d=\"M17.41 7.96l-1.37-1.37c-.4-.4-.92-.59-1.43-.59-.52 0-1.04.2-1.43.59L10.3 9.45l-7.72 7.72c-.78.78-.78 2.05 0 2.83L4 21.41c.39.39.9.59 1.41.59.51 0 1.02-.2 1.41-.59l7.78-7.78 2.81-2.81c.8-.78.8-2.07 0-2.86zM5.41 20L4 18.59l7.72-7.72 1.47 1.35L5.41 20z\"/>\n",
              "  </svg>\n",
              "      </button>\n",
              "      \n",
              "  <style>\n",
              "    .colab-df-container {\n",
              "      display:flex;\n",
              "      flex-wrap:wrap;\n",
              "      gap: 12px;\n",
              "    }\n",
              "\n",
              "    .colab-df-convert {\n",
              "      background-color: #E8F0FE;\n",
              "      border: none;\n",
              "      border-radius: 50%;\n",
              "      cursor: pointer;\n",
              "      display: none;\n",
              "      fill: #1967D2;\n",
              "      height: 32px;\n",
              "      padding: 0 0 0 0;\n",
              "      width: 32px;\n",
              "    }\n",
              "\n",
              "    .colab-df-convert:hover {\n",
              "      background-color: #E2EBFA;\n",
              "      box-shadow: 0px 1px 2px rgba(60, 64, 67, 0.3), 0px 1px 3px 1px rgba(60, 64, 67, 0.15);\n",
              "      fill: #174EA6;\n",
              "    }\n",
              "\n",
              "    [theme=dark] .colab-df-convert {\n",
              "      background-color: #3B4455;\n",
              "      fill: #D2E3FC;\n",
              "    }\n",
              "\n",
              "    [theme=dark] .colab-df-convert:hover {\n",
              "      background-color: #434B5C;\n",
              "      box-shadow: 0px 1px 3px 1px rgba(0, 0, 0, 0.15);\n",
              "      filter: drop-shadow(0px 1px 2px rgba(0, 0, 0, 0.3));\n",
              "      fill: #FFFFFF;\n",
              "    }\n",
              "  </style>\n",
              "\n",
              "      <script>\n",
              "        const buttonEl =\n",
              "          document.querySelector('#df-c29f98d4-1f79-447e-ac45-9a501797a84d button.colab-df-convert');\n",
              "        buttonEl.style.display =\n",
              "          google.colab.kernel.accessAllowed ? 'block' : 'none';\n",
              "\n",
              "        async function convertToInteractive(key) {\n",
              "          const element = document.querySelector('#df-c29f98d4-1f79-447e-ac45-9a501797a84d');\n",
              "          const dataTable =\n",
              "            await google.colab.kernel.invokeFunction('convertToInteractive',\n",
              "                                                     [key], {});\n",
              "          if (!dataTable) return;\n",
              "\n",
              "          const docLinkHtml = 'Like what you see? Visit the ' +\n",
              "            '<a target=\"_blank\" href=https://colab.research.google.com/notebooks/data_table.ipynb>data table notebook</a>'\n",
              "            + ' to learn more about interactive tables.';\n",
              "          element.innerHTML = '';\n",
              "          dataTable['output_type'] = 'display_data';\n",
              "          await google.colab.output.renderOutput(dataTable, element);\n",
              "          const docLink = document.createElement('div');\n",
              "          docLink.innerHTML = docLinkHtml;\n",
              "          element.appendChild(docLink);\n",
              "        }\n",
              "      </script>\n",
              "    </div>\n",
              "  </div>\n",
              "  "
            ]
          },
          "metadata": {},
          "execution_count": 69
        }
      ]
    },
    {
      "cell_type": "code",
      "source": [
        "combined_df[['CV score', 'CV score removed features']].plot(kind='barh', title = 'CV Comparison').legend(loc='center left', bbox_to_anchor=(1.0, 0.5))\n"
      ],
      "metadata": {
        "id": "p-lAeBSXqvYw",
        "colab": {
          "base_uri": "https://localhost:8080/",
          "height": 301
        },
        "outputId": "0c9711ec-c54e-4cad-a0d4-d5a635225bff"
      },
      "execution_count": 70,
      "outputs": [
        {
          "output_type": "execute_result",
          "data": {
            "text/plain": [
              "<matplotlib.legend.Legend at 0x7fafc149c410>"
            ]
          },
          "metadata": {},
          "execution_count": 70
        },
        {
          "output_type": "display_data",
          "data": {
            "text/plain": [
              "<Figure size 432x288 with 1 Axes>"
            ],
            "image/png": "[encoded data removed]"
          },
          "metadata": {}
        }
      ]
    },
    {
      "cell_type": "markdown",
      "source": [
        "We can see that there isn't a lot of difference, but we are better off without removing the weak features."
      ],
      "metadata": {
        "id": "wh1V5BdFujca"
      }
    },
    {
      "cell_type": "markdown",
      "source": [
        "# exercise1.csv"
      ],
      "metadata": {
        "id": "ilY99WWnvTpj"
      }
    },
    {
      "cell_type": "markdown",
      "source": [
        "# New Section"
      ],
      "metadata": {
        "id": "o3sXHCQ9QrKa"
      }
    },
    {
      "cell_type": "code",
      "source": [
        "\n",
        "\n",
        "results = {'model': ['Random forest', 'Decision tree', 'Linear regression'],\n",
        "           'Score (RMSE)': ['48.486791', '71.944826', '121.985975'],\n",
        "           'Hyperparams used': [['n_estimators=200', 'random_state=42'], ['max_features=auto', 'random_state=42'], ['None']],\n",
        "           'Features dropped': [['atemp','datetime'], ['atemp','datetime'],['atemp','datetime']],\n",
        "           'New features created': [['year','month','day','dayofweek','hour','its_getting_hot_in_here'],['year','month','day','dayofweek','hour','its_getting_hot_in_here'], ['year','month','day','dayofweek','hour','its_getting_hot_in_here']],\n",
        "           'Runtime trainining + inference (seconds)': ['42.1', '0.47', '0.05'],\n",
        "           'Hardware used (GPU/CPU/TPU)': ['GPU', 'GPU', 'GPU'],\n",
        "           'Explainability (top 3 features)': [['its_getting_hot_in_here','hour','year'], ['its_getting_hot_in_here','hour','year'], ['its_getting_hot_in_here', 'pollution','hour']]\n",
        "           }\n",
        "\n",
        "df = pd.DataFrame(results)\n",
        "df"
      ],
      "metadata": {
        "colab": {
          "base_uri": "https://localhost:8080/",
          "height": 326
        },
        "id": "oThqRFG3vbwE",
        "outputId": "87b1582b-e311-4452-a23c-e5d24fe72172"
      },
      "execution_count": 71,
      "outputs": [
        {
          "output_type": "execute_result",
          "data": {
            "text/plain": [
              "               model Score (RMSE)                      Hyperparams used  \\\n",
              "0      Random forest    48.486791   [n_estimators=200, random_state=42]   \n",
              "1      Decision tree    71.944826  [max_features=auto, random_state=42]   \n",
              "2  Linear regression   121.985975                                [None]   \n",
              "\n",
              "    Features dropped                               New features created  \\\n",
              "0  [atemp, datetime]  [year, month, day, dayofweek, hour, its_gettin...   \n",
              "1  [atemp, datetime]  [year, month, day, dayofweek, hour, its_gettin...   \n",
              "2  [atemp, datetime]  [year, month, day, dayofweek, hour, its_gettin...   \n",
              "\n",
              "  Runtime trainining + inference (seconds) Hardware used (GPU/CPU/TPU)  \\\n",
              "0                                     42.1                         GPU   \n",
              "1                                     0.47                         GPU   \n",
              "2                                     0.05                         GPU   \n",
              "\n",
              "              Explainability (top 3 features)  \n",
              "0       [its_getting_hot_in_here, hour, year]  \n",
              "1       [its_getting_hot_in_here, hour, year]  \n",
              "2  [its_getting_hot_in_here, pollution, hour]  "
            ],
            "text/html": [
              "\n",
              "  <div id=\"df-7acc606e-8faf-44a4-abda-2c6557ae6990\">\n",
              "    <div class=\"colab-df-container\">\n",
              "      <div>\n",
              "<style scoped>\n",
              "    .dataframe tbody tr th:only-of-type {\n",
              "        vertical-align: middle;\n",
              "    }\n",
              "\n",
              "    .dataframe tbody tr th {\n",
              "        vertical-align: top;\n",
              "    }\n",
              "\n",
              "    .dataframe thead th {\n",
              "        text-align: right;\n",
              "    }\n",
              "</style>\n",
              "<table border=\"1\" class=\"dataframe\">\n",
              "  <thead>\n",
              "    <tr style=\"text-align: right;\">\n",
              "      <th></th>\n",
              "      <th>model</th>\n",
              "      <th>Score (RMSE)</th>\n",
              "      <th>Hyperparams used</th>\n",
              "      <th>Features dropped</th>\n",
              "      <th>New features created</th>\n",
              "      <th>Runtime trainining + inference (seconds)</th>\n",
              "      <th>Hardware used (GPU/CPU/TPU)</th>\n",
              "      <th>Explainability (top 3 features)</th>\n",
              "    </tr>\n",
              "  </thead>\n",
              "  <tbody>\n",
              "    <tr>\n",
              "      <th>0</th>\n",
              "      <td>Random forest</td>\n",
              "      <td>48.486791</td>\n",
              "      <td>[n_estimators=200, random_state=42]</td>\n",
              "      <td>[atemp, datetime]</td>\n",
              "      <td>[year, month, day, dayofweek, hour, its_gettin...</td>\n",
              "      <td>42.1</td>\n",
              "      <td>GPU</td>\n",
              "      <td>[its_getting_hot_in_here, hour, year]</td>\n",
              "    </tr>\n",
              "    <tr>\n",
              "      <th>1</th>\n",
              "      <td>Decision tree</td>\n",
              "      <td>71.944826</td>\n",
              "      <td>[max_features=auto, random_state=42]</td>\n",
              "      <td>[atemp, datetime]</td>\n",
              "      <td>[year, month, day, dayofweek, hour, its_gettin...</td>\n",
              "      <td>0.47</td>\n",
              "      <td>GPU</td>\n",
              "      <td>[its_getting_hot_in_here, hour, year]</td>\n",
              "    </tr>\n",
              "    <tr>\n",
              "      <th>2</th>\n",
              "      <td>Linear regression</td>\n",
              "      <td>121.985975</td>\n",
              "      <td>[None]</td>\n",
              "      <td>[atemp, datetime]</td>\n",
              "      <td>[year, month, day, dayofweek, hour, its_gettin...</td>\n",
              "      <td>0.05</td>\n",
              "      <td>GPU</td>\n",
              "      <td>[its_getting_hot_in_here, pollution, hour]</td>\n",
              "    </tr>\n",
              "  </tbody>\n",
              "</table>\n",
              "</div>\n",
              "      <button class=\"colab-df-convert\" onclick=\"convertToInteractive('df-7acc606e-8faf-44a4-abda-2c6557ae6990')\"\n",
              "              title=\"Convert this dataframe to an interactive table.\"\n",
              "              style=\"display:none;\">\n",
              "        \n",
              "  <svg xmlns=\"http://www.w3.org/2000/svg\" height=\"24px\"viewBox=\"0 0 24 24\"\n",
              "       width=\"24px\">\n",
              "    <path d=\"M0 0h24v24H0V0z\" fill=\"none\"/>\n",
              "    <path d=\"M18.56 5.44l.94 2.06.94-2.06 2.06-.94-2.06-.94-.94-2.06-.94 2.06-2.06.94zm-11 1L8.5 8.5l.94-2.06 2.06-.94-2.06-.94L8.5 2.5l-.94 2.06-2.06.94zm10 10l.94 2.06.94-2.06 2.06-.94-2.06-.94-.94-2.06-.94 2.06-2.06.94z\"/><path d=\"M17.41 7.96l-1.37-1.37c-.4-.4-.92-.59-1.43-.59-.52 0-1.04.2-1.43.59L10.3 9.45l-7.72 7.72c-.78.78-.78 2.05 0 2.83L4 21.41c.39.39.9.59 1.41.59.51 0 1.02-.2 1.41-.59l7.78-7.78 2.81-2.81c.8-.78.8-2.07 0-2.86zM5.41 20L4 18.59l7.72-7.72 1.47 1.35L5.41 20z\"/>\n",
              "  </svg>\n",
              "      </button>\n",
              "      \n",
              "  <style>\n",
              "    .colab-df-container {\n",
              "      display:flex;\n",
              "      flex-wrap:wrap;\n",
              "      gap: 12px;\n",
              "    }\n",
              "\n",
              "    .colab-df-convert {\n",
              "      background-color: #E8F0FE;\n",
              "      border: none;\n",
              "      border-radius: 50%;\n",
              "      cursor: pointer;\n",
              "      display: none;\n",
              "      fill: #1967D2;\n",
              "      height: 32px;\n",
              "      padding: 0 0 0 0;\n",
              "      width: 32px;\n",
              "    }\n",
              "\n",
              "    .colab-df-convert:hover {\n",
              "      background-color: #E2EBFA;\n",
              "      box-shadow: 0px 1px 2px rgba(60, 64, 67, 0.3), 0px 1px 3px 1px rgba(60, 64, 67, 0.15);\n",
              "      fill: #174EA6;\n",
              "    }\n",
              "\n",
              "    [theme=dark] .colab-df-convert {\n",
              "      background-color: #3B4455;\n",
              "      fill: #D2E3FC;\n",
              "    }\n",
              "\n",
              "    [theme=dark] .colab-df-convert:hover {\n",
              "      background-color: #434B5C;\n",
              "      box-shadow: 0px 1px 3px 1px rgba(0, 0, 0, 0.15);\n",
              "      filter: drop-shadow(0px 1px 2px rgba(0, 0, 0, 0.3));\n",
              "      fill: #FFFFFF;\n",
              "    }\n",
              "  </style>\n",
              "\n",
              "      <script>\n",
              "        const buttonEl =\n",
              "          document.querySelector('#df-7acc606e-8faf-44a4-abda-2c6557ae6990 button.colab-df-convert');\n",
              "        buttonEl.style.display =\n",
              "          google.colab.kernel.accessAllowed ? 'block' : 'none';\n",
              "\n",
              "        async function convertToInteractive(key) {\n",
              "          const element = document.querySelector('#df-7acc606e-8faf-44a4-abda-2c6557ae6990');\n",
              "          const dataTable =\n",
              "            await google.colab.kernel.invokeFunction('convertToInteractive',\n",
              "                                                     [key], {});\n",
              "          if (!dataTable) return;\n",
              "\n",
              "          const docLinkHtml = 'Like what you see? Visit the ' +\n",
              "            '<a target=\"_blank\" href=https://colab.research.google.com/notebooks/data_table.ipynb>data table notebook</a>'\n",
              "            + ' to learn more about interactive tables.';\n",
              "          element.innerHTML = '';\n",
              "          dataTable['output_type'] = 'display_data';\n",
              "          await google.colab.output.renderOutput(dataTable, element);\n",
              "          const docLink = document.createElement('div');\n",
              "          docLink.innerHTML = docLinkHtml;\n",
              "          element.appendChild(docLink);\n",
              "        }\n",
              "      </script>\n",
              "    </div>\n",
              "  </div>\n",
              "  "
            ]
          },
          "metadata": {},
          "execution_count": 71
        }
      ]
    },
    {
      "cell_type": "code",
      "source": [
        "import os\n",
        "df.to_csv(os.path.join(os.getcwd(), 'exercise1.csv'))\n"
      ],
      "metadata": {
        "id": "7fHYUqm19bP3"
      },
      "execution_count": 72,
      "outputs": []
    }
  ]
}